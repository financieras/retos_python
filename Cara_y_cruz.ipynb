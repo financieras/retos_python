{
  "nbformat": 4,
  "nbformat_minor": 0,
  "metadata": {
    "colab": {
      "provenance": [],
      "authorship_tag": "ABX9TyNrtLJ5fm+I+kLdkZrx60P9",
      "include_colab_link": true
    },
    "kernelspec": {
      "name": "python3",
      "display_name": "Python 3"
    },
    "language_info": {
      "name": "python"
    }
  },
  "cells": [
    {
      "cell_type": "markdown",
      "metadata": {
        "id": "view-in-github",
        "colab_type": "text"
      },
      "source": [
        "<a href=\"https://colab.research.google.com/github/financieras/retos_python/blob/main/Cara_y_cruz.ipynb\" target=\"_parent\"><img src=\"https://colab.research.google.com/assets/colab-badge.svg\" alt=\"Open In Colab\"/></a>"
      ]
    },
    {
      "cell_type": "markdown",
      "source": [
        "# Juego: Cara y Cruz\n",
        "* Juego muy sencillo del tipo \"cero jugadores\" Se juega automáticamente\n",
        "Se indica el número de jugadores, mínimo 2."
      ],
      "metadata": {
        "id": "fxCuXrpQgWcn"
      }
    },
    {
      "cell_type": "code",
      "source": [
        "import random\n",
        "\n",
        "def coin_flip():\n",
        "    return random.choice(['cara', 'cruz'])\n",
        "\n",
        "def play_game(num_rounds):\n",
        "    scores = [0] * num_players\n",
        "\n",
        "    for round in range(num_rounds):\n",
        "        print(f\"Ronda {round + 1}:\")\n",
        "        for player in range(num_players):\n",
        "            result = coin_flip()\n",
        "            if result == 'cara':\n",
        "                scores[player] += 1\n",
        "            print(f\"Jugador {player + 1}: {result}\")\n",
        "\n",
        "    print(\"\\nResultados finales:\")\n",
        "    for player in range(num_players):\n",
        "        print(f\"Jugador {player + 1}: {scores[player]} puntos\")\n",
        "\n",
        "    winners = [str(i + 1) for i, score in enumerate(scores) if score == max(scores)]\n",
        "    if len(winners) == 1:\n",
        "        print(f\"\\nEl jugador {', '.join(winners)} gana!\")\n",
        "    else:\n",
        "        print(f\"\\nHay un empate entre los jugadores {', '.join(winners)}!\")\n",
        "\n",
        "# Configuración del juego\n",
        "num_players = int(input(\"Ingrese el número de jugadores: \"))\n",
        "num_rounds = int(input(\"Ingrese el número de rondas: \"))\n",
        "\n",
        "# Jugar el juego\n",
        "play_game(num_rounds)"
      ],
      "metadata": {
        "id": "AcnIs4Pig0Jr"
      },
      "execution_count": null,
      "outputs": []
    }
  ]
}