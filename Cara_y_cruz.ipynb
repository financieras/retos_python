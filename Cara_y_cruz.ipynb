{
  "nbformat": 4,
  "nbformat_minor": 0,
  "metadata": {
    "colab": {
      "provenance": [],
      "authorship_tag": "ABX9TyMTZ/h/qx5ChR1Ku3rjXF9l",
      "include_colab_link": true
    },
    "kernelspec": {
      "name": "python3",
      "display_name": "Python 3"
    },
    "language_info": {
      "name": "python"
    }
  },
  "cells": [
    {
      "cell_type": "markdown",
      "metadata": {
        "id": "view-in-github",
        "colab_type": "text"
      },
      "source": [
        "<a href=\"https://colab.research.google.com/github/financieras/retos_python/blob/main/Cara_y_cruz.ipynb\" target=\"_parent\"><img src=\"https://colab.research.google.com/assets/colab-badge.svg\" alt=\"Open In Colab\"/></a>"
      ]
    },
    {
      "cell_type": "markdown",
      "source": [
        "# Juego: Cara y Cruz\n",
        "* Juego muy sencillo del tipo \"cero jugadores\" Se juega automáticamente\n",
        "* Se indica el número de jugadores, mínimo 2.\n",
        "* Se indica el número de rondas"
      ],
      "metadata": {
        "id": "fxCuXrpQgWcn"
      }
    },
    {
      "cell_type": "code",
      "source": [
        "import random\n",
        "\n",
        "def coin_flip():\n",
        "    return random.choice(['cara', 'cruz'])\n",
        "\n",
        "def play_game(num_rounds):\n",
        "    scores = [0] * num_players      # inicializamos el vector de puntuaciones\n",
        "\n",
        "    for round in range(num_rounds):     # para cada ronda\n",
        "        print(f\"Ronda {round + 1}:\")    # print ronda\n",
        "        for player in range(num_players):   # para cada nº de jugador\n",
        "            result = coin_flip()            # lanzamos la moneda\n",
        "            if result == 'cara':            # si es cara\n",
        "                scores[player] += 1         # ganamos un punto\n",
        "            print(f\"Jugador {player + 1}: {result}\") # print jugador y resultado\n",
        "\n",
        "    print(\"\\nResultados finales:\")\n",
        "    for player in range(num_players):       # para cada nº de jugador\n",
        "        print(f\"Jugador {player + 1}: {scores[player]} puntos\") # print jugador+puntos\n",
        "\n",
        "    # vector de ganadores\n",
        "    winners = [str(i + 1) for i, score in enumerate(scores) if score == max(scores)]\n",
        "    if len(winners) == 1:\n",
        "        print(f\"\\nEl jugador {', '.join(winners)} gana!\")\n",
        "    else:\n",
        "        print(f\"\\nHay un empate entre los jugadores {', '.join(winners)}!\")\n",
        "\n",
        "# Configuración del juego\n",
        "num_players = int(input(\"Ingrese el número de jugadores: \"))\n",
        "num_rounds = int(input(\"Ingrese el número de rondas: \"))\n",
        "\n",
        "# Jugar el juego\n",
        "play_game(num_rounds)"
      ],
      "metadata": {
        "id": "AcnIs4Pig0Jr"
      },
      "execution_count": null,
      "outputs": []
    },
    {
      "cell_type": "markdown",
      "source": [
        "## usando Programación Orientada a Objetos (POO)\n",
        "* Object Oriented Programming (OOP)\n",
        "* La clase `Player` encapsula la lógica de lanzar la moneda y llevar la cuenta de los puntos de cada jugador.\n",
        "* La clase `Game` se encarga de la lógica del juego, incluyendo la creación de los jugadores, el control de las rondas y la determinación del ganador.\n",
        "* La línea de código que permite enlazar las dos clases es:  \n",
        "`self.jugadores = [Player(i+1) for i in range(num_jugadores)]`  \n",
        "Se crea una lista con todos los objetos de los jugadores"
      ],
      "metadata": {
        "id": "qAGSQAfH0YIL"
      }
    },
    {
      "cell_type": "code",
      "source": [
        "import random\n",
        "\n",
        "class Player:\n",
        "    def __init__(self, id):\n",
        "        self.id = id\n",
        "        self.puntos = 0\n",
        "\n",
        "    def __str__(self):\n",
        "        return f\"~ Jugador {self.id}.\"\n",
        "\n",
        "    def lanzar_moneda(self):\n",
        "        return random.choice(['cara', 'cruz'])\n",
        "\n",
        "    def incrementar_puntos(self):\n",
        "        self.puntos += 1\n",
        "\n",
        "    def obtener_puntos(self):\n",
        "        return self.puntos\n",
        "\n",
        "class Game:\n",
        "    def __init__(self, num_jugadores, num_rondas):\n",
        "        self.jugadores = [Player(i+1) for i in range(num_jugadores)]\n",
        "        self.num_rondas = num_rondas\n",
        "        print(\"\\nLista de jugadores\")\n",
        "        for j in self.jugadores:\n",
        "            print(j)\n",
        "\n",
        "    def jugar(self):\n",
        "        for ronda in range(self.num_rondas):\n",
        "            print(f\"\\nRonda {ronda + 1}:\")\n",
        "            for jugador in self.jugadores:\n",
        "                resultado = jugador.lanzar_moneda()\n",
        "                if resultado == 'cara':\n",
        "                    jugador.incrementar_puntos()\n",
        "                print(f\"Jugador {jugador.id}: {resultado}\")\n",
        "\n",
        "        self.mostrar_resultados()\n",
        "\n",
        "    def mostrar_resultados(self):\n",
        "        print(\"\\nResultados finales:\")\n",
        "        for jugador in self.jugadores:\n",
        "            print(f\"Jugador {jugador.id}: {jugador.obtener_puntos()} puntos\")\n",
        "\n",
        "        max_puntos = max(jugador.obtener_puntos() for jugador in self.jugadores)\n",
        "        ganadores = [str(jugador.id) for jugador in self.jugadores if jugador.obtener_puntos() == max_puntos]\n",
        "\n",
        "        if len(ganadores) == 1:\n",
        "            print(f\"\\nEl jugador {', '.join(ganadores)} gana!\")\n",
        "        else:\n",
        "            print(f\"\\nHay un empate entre los jugadores {', '.join(ganadores)}!\")\n",
        "\n",
        "# Configuración del juego\n",
        "num_jugadores = int(input(\"Ingrese el número de jugadores: \"))\n",
        "num_rondas = int(input(\"Ingrese el número de rondas: \"))\n",
        "\n",
        "# Jugar el juego\n",
        "game = Game(num_jugadores, num_rondas)\n",
        "game.jugar()"
      ],
      "metadata": {
        "id": "C7dtu5tT28gW",
        "outputId": "30b40744-677e-48d5-be9f-67ac13b91a04",
        "colab": {
          "base_uri": "https://localhost:8080/"
        }
      },
      "execution_count": 19,
      "outputs": [
        {
          "output_type": "stream",
          "name": "stdout",
          "text": [
            "Ingrese el número de jugadores: 3\n",
            "Ingrese el número de rondas: 2\n",
            "\n",
            "Lista de jugadores\n",
            "~ Jugador 1.\n",
            "~ Jugador 2.\n",
            "~ Jugador 3.\n",
            "\n",
            "Ronda 1:\n",
            "Jugador 1: cruz\n",
            "Jugador 2: cruz\n",
            "Jugador 3: cara\n",
            "\n",
            "Ronda 2:\n",
            "Jugador 1: cara\n",
            "Jugador 2: cruz\n",
            "Jugador 3: cara\n",
            "\n",
            "Resultados finales:\n",
            "Jugador 1: 1 puntos\n",
            "Jugador 2: 0 puntos\n",
            "Jugador 3: 2 puntos\n",
            "\n",
            "El jugador 3 gana!\n"
          ]
        }
      ]
    }
  ]
}