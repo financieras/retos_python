{
  "nbformat": 4,
  "nbformat_minor": 0,
  "metadata": {
    "colab": {
      "provenance": [],
      "authorship_tag": "ABX9TyOqUEJlVNH+EYn5n6YFGNB+",
      "include_colab_link": true
    },
    "kernelspec": {
      "name": "python3",
      "display_name": "Python 3"
    },
    "language_info": {
      "name": "python"
    }
  },
  "cells": [
    {
      "cell_type": "markdown",
      "metadata": {
        "id": "view-in-github",
        "colab_type": "text"
      },
      "source": [
        "<a href=\"https://colab.research.google.com/github/financieras/retos_python/blob/main/bloque1/reto001.ipynb\" target=\"_parent\"><img src=\"https://colab.research.google.com/assets/colab-badge.svg\" alt=\"Open In Colab\"/></a>"
      ]
    },
    {
      "cell_type": "markdown",
      "source": [
        "# Reto 1\n",
        "Imprimir *Hola mundo*."
      ],
      "metadata": {
        "id": "cV0FRC0AaGz3"
      }
    },
    {
      "cell_type": "markdown",
      "source": [
        "## Solución método 1"
      ],
      "metadata": {
        "id": "5ZisB1YOaN5b"
      }
    },
    {
      "cell_type": "code",
      "execution_count": 1,
      "metadata": {
        "colab": {
          "base_uri": "https://localhost:8080/"
        },
        "id": "7vAFenMMaESL",
        "outputId": "25fb3c64-5ca9-446b-da4b-51c785d20043"
      },
      "outputs": [
        {
          "output_type": "stream",
          "name": "stdout",
          "text": [
            "Hola mundo\n"
          ]
        }
      ],
      "source": [
        "print(\"Hola mundo\")"
      ]
    },
    {
      "cell_type": "markdown",
      "source": [
        "## Solución método 2"
      ],
      "metadata": {
        "id": "UeFyzFxtaX17"
      }
    },
    {
      "cell_type": "code",
      "source": [
        "print('Hola mundo')"
      ],
      "metadata": {
        "colab": {
          "base_uri": "https://localhost:8080/"
        },
        "id": "f9pKDA_MaanW",
        "outputId": "d26c3a06-cac1-4cb2-c334-ced4d83acddc"
      },
      "execution_count": 2,
      "outputs": [
        {
          "output_type": "stream",
          "name": "stdout",
          "text": [
            "Hola mundo\n"
          ]
        }
      ]
    },
    {
      "cell_type": "markdown",
      "source": [
        "## Solución método 3"
      ],
      "metadata": {
        "id": "jB0F2JO_abCM"
      }
    },
    {
      "cell_type": "code",
      "source": [
        "print('Hola '+'mundo')"
      ],
      "metadata": {
        "colab": {
          "base_uri": "https://localhost:8080/"
        },
        "id": "4Ti8XMwrach_",
        "outputId": "47729e2e-fe7f-4a46-8b17-564d0c4859bf"
      },
      "execution_count": 3,
      "outputs": [
        {
          "output_type": "stream",
          "name": "stdout",
          "text": [
            "Hola mundo\n"
          ]
        }
      ]
    },
    {
      "cell_type": "markdown",
      "source": [
        "## Solución método 4"
      ],
      "metadata": {
        "id": "f7BZFphzaemp"
      }
    },
    {
      "cell_type": "code",
      "source": [
        "print('Hola','mundo')"
      ],
      "metadata": {
        "colab": {
          "base_uri": "https://localhost:8080/"
        },
        "id": "uFHFTU2Vaf-x",
        "outputId": "0bab96e5-5ec8-4e6c-847b-7d2a1bffd1c4"
      },
      "execution_count": 4,
      "outputs": [
        {
          "output_type": "stream",
          "name": "stdout",
          "text": [
            "Hola mundo\n"
          ]
        }
      ]
    },
    {
      "cell_type": "markdown",
      "source": [
        "## Solución método 5"
      ],
      "metadata": {
        "id": "zEToY0U9agkt"
      }
    },
    {
      "cell_type": "code",
      "source": [
        "print('{} {}'.format('Hola','mundo'))"
      ],
      "metadata": {
        "colab": {
          "base_uri": "https://localhost:8080/"
        },
        "id": "rKfq1CgpaiAH",
        "outputId": "05b28aee-c452-4bfe-aa7e-5bcbcf42e4d2"
      },
      "execution_count": 5,
      "outputs": [
        {
          "output_type": "stream",
          "name": "stdout",
          "text": [
            "Hola mundo\n"
          ]
        }
      ]
    },
    {
      "cell_type": "markdown",
      "source": [
        "## Solución método 6"
      ],
      "metadata": {
        "id": "bKiqzX-NaiQb"
      }
    },
    {
      "cell_type": "code",
      "source": [
        "print(f\"{'Hola'} {'mundo'}\")"
      ],
      "metadata": {
        "colab": {
          "base_uri": "https://localhost:8080/"
        },
        "id": "o6IIEt30ajmp",
        "outputId": "e6e8082a-5d03-4be5-dfcb-aaf8a2044dd6"
      },
      "execution_count": 6,
      "outputs": [
        {
          "output_type": "stream",
          "name": "stdout",
          "text": [
            "Hola mundo\n"
          ]
        }
      ]
    },
    {
      "cell_type": "code",
      "source": [
        "a = 'Hola'\n",
        "b = 'Mundo'\n",
        "print(f'{a} {b}')"
      ],
      "metadata": {
        "colab": {
          "base_uri": "https://localhost:8080/"
        },
        "id": "SoyWuD45iZQ4",
        "outputId": "6df9933e-7e53-4877-ae0f-cdc27f1a1e29"
      },
      "execution_count": 7,
      "outputs": [
        {
          "output_type": "stream",
          "name": "stdout",
          "text": [
            "Hola Mundo\n"
          ]
        }
      ]
    },
    {
      "cell_type": "markdown",
      "source": [
        "## Solución método 7"
      ],
      "metadata": {
        "id": "_LLYWwhUakGH"
      }
    },
    {
      "cell_type": "code",
      "source": [
        "a = \"!odnum aloH¡\"\n",
        "b = a[::-1]\n",
        "print(b)"
      ],
      "metadata": {
        "colab": {
          "base_uri": "https://localhost:8080/"
        },
        "id": "v3BDZ_5KanPh",
        "outputId": "bc33ee3b-baf1-4b02-8dc1-66d6e54d7295"
      },
      "execution_count": 8,
      "outputs": [
        {
          "output_type": "stream",
          "name": "stdout",
          "text": [
            "¡Hola mundo!\n"
          ]
        }
      ]
    },
    {
      "cell_type": "markdown",
      "source": [
        "## Solución método 8"
      ],
      "metadata": {
        "id": "VUbhGVKkan-z"
      }
    },
    {
      "cell_type": "code",
      "source": [
        "str=\"!odnum aloH\"\n",
        "print(''.join(reversed(str)))"
      ],
      "metadata": {
        "colab": {
          "base_uri": "https://localhost:8080/"
        },
        "id": "_PtYiVcYao9r",
        "outputId": "b7a199a5-b63d-422d-bb57-3438572060f2"
      },
      "execution_count": 9,
      "outputs": [
        {
          "output_type": "stream",
          "name": "stdout",
          "text": [
            "Hola mundo!\n"
          ]
        }
      ]
    },
    {
      "cell_type": "markdown",
      "source": [
        "## Solución método 9\n",
        "```str.__getitem__()``` es un método mágico en Python que se utiliza para acceder a los elementos de una cadena mediante el operador de indexación ```[]```.  \n",
        "El método ```__getitem__()``` se llama automáticamente cuando se utiliza el operador de indexación en una cadena.  \n",
        "El método toma un índice como argumento y devuelve el carácter correspondiente en la posición del índice.\n",
        "\n",
        "Por ejemplo, si tienes la cadena “Hola mundo” y quieres acceder al carácter “m” en la posición 6, puedes hacerlo así:\n",
        "\n",
        "<code>\n",
        "cadena = \"Hola mundo\"<br>\n",
        "caracter = cadena.__getitem__(6)<br>\n",
        "print(caracter)\n",
        "</code>"
      ],
      "metadata": {
        "id": "1d562MFCapdv"
      }
    },
    {
      "cell_type": "code",
      "source": [
        "str=\"!odnum aloH\"\n",
        "print(''.join(map(str.__getitem__, range(len(str)-1, -1, -1))))"
      ],
      "metadata": {
        "colab": {
          "base_uri": "https://localhost:8080/"
        },
        "id": "cHDjJhwjaqiI",
        "outputId": "051058ef-fdf1-4d4a-993d-500bf5cd993b"
      },
      "execution_count": 10,
      "outputs": [
        {
          "output_type": "stream",
          "name": "stdout",
          "text": [
            "Hola mundo!\n"
          ]
        }
      ]
    },
    {
      "cell_type": "markdown",
      "source": [
        "## Solución método 10"
      ],
      "metadata": {
        "id": "eKnOADK-aut7"
      }
    },
    {
      "cell_type": "code",
      "source": [
        "print(''.join(list(\"Hola mundo\")))"
      ],
      "metadata": {
        "colab": {
          "base_uri": "https://localhost:8080/"
        },
        "id": "wwLjXySOawHy",
        "outputId": "3d740b6c-b0e8-4ab8-d485-5780f3962830"
      },
      "execution_count": 11,
      "outputs": [
        {
          "output_type": "stream",
          "name": "stdout",
          "text": [
            "Hola mundo\n"
          ]
        }
      ]
    },
    {
      "cell_type": "markdown",
      "source": [
        "## Solución método 11"
      ],
      "metadata": {
        "id": "03w7FoWQaw2K"
      }
    },
    {
      "cell_type": "code",
      "source": [
        "def main():\n",
        "    return \"¡Hola mundo!\"\n",
        "\n",
        "if __name__ == \"__main__\":\n",
        "    respuesta = main()\n",
        "    print(respuesta)"
      ],
      "metadata": {
        "colab": {
          "base_uri": "https://localhost:8080/"
        },
        "id": "fGMhRWM5ayDa",
        "outputId": "62700123-6584-4319-b888-371f5a077163"
      },
      "execution_count": 12,
      "outputs": [
        {
          "output_type": "stream",
          "name": "stdout",
          "text": [
            "¡Hola mundo!\n"
          ]
        }
      ]
    },
    {
      "cell_type": "markdown",
      "source": [
        "## Solución método 12"
      ],
      "metadata": {
        "id": "g1ps3Ufsa0oq"
      }
    },
    {
      "cell_type": "code",
      "source": [
        "!pip3 install colorama"
      ],
      "metadata": {
        "colab": {
          "base_uri": "https://localhost:8080/"
        },
        "id": "CR06iH7Ggt1Z",
        "outputId": "5ae6b9a2-2a90-4ae8-a1d0-c04a632a4df7"
      },
      "execution_count": 13,
      "outputs": [
        {
          "output_type": "stream",
          "name": "stdout",
          "text": [
            "Looking in indexes: https://pypi.org/simple, https://us-python.pkg.dev/colab-wheels/public/simple/\n",
            "Requirement already satisfied: colorama in /usr/local/lib/python3.10/dist-packages (0.4.6)\n"
          ]
        }
      ]
    },
    {
      "cell_type": "code",
      "source": [
        "import colorama\n",
        "from colorama import Fore, Style\n",
        "print(f\"{Fore.BLUE}Hello World{Style.RESET_ALL}\")"
      ],
      "metadata": {
        "colab": {
          "base_uri": "https://localhost:8080/"
        },
        "id": "OzWSKk8qaz0e",
        "outputId": "579193d5-f470-4354-8d4d-06324c6ea3d5"
      },
      "execution_count": 14,
      "outputs": [
        {
          "output_type": "stream",
          "name": "stdout",
          "text": [
            "\u001b[34mHello World\u001b[0m\n"
          ]
        }
      ]
    },
    {
      "cell_type": "markdown",
      "source": [
        "## Solución método 13"
      ],
      "metadata": {
        "id": "gi5B1vu4a2FI"
      }
    },
    {
      "cell_type": "code",
      "source": [
        "while True: print('Hola mundo'); break"
      ],
      "metadata": {
        "colab": {
          "base_uri": "https://localhost:8080/"
        },
        "id": "PoOhMs5Aa3kW",
        "outputId": "22650b03-73aa-404b-c0d6-223c3c85caa7"
      },
      "execution_count": 15,
      "outputs": [
        {
          "output_type": "stream",
          "name": "stdout",
          "text": [
            "Hola mundo\n"
          ]
        }
      ]
    },
    {
      "cell_type": "markdown",
      "source": [
        "## Solución método 14"
      ],
      "metadata": {
        "id": "hZa6WGV9a4Ee"
      }
    },
    {
      "cell_type": "code",
      "source": [
        "alguien='Mundo'\n",
        "print(f'Hola {alguien}')"
      ],
      "metadata": {
        "colab": {
          "base_uri": "https://localhost:8080/"
        },
        "id": "kT8Ndv15a5b6",
        "outputId": "59356a97-0971-4ccf-de14-f6e7e84f85bf"
      },
      "execution_count": 16,
      "outputs": [
        {
          "output_type": "stream",
          "name": "stdout",
          "text": [
            "Hola Mundo\n"
          ]
        }
      ]
    },
    {
      "cell_type": "markdown",
      "source": [
        "## Solución método 15"
      ],
      "metadata": {
        "id": "EZT_HueOikNf"
      }
    },
    {
      "cell_type": "code",
      "source": [
        "print('\\u0048\\u006f\\u006c\\u0061\\u0020\\u006d\\u0075\\u006e\\u0064\\u006f')"
      ],
      "metadata": {
        "colab": {
          "base_uri": "https://localhost:8080/"
        },
        "id": "Zge8T1Ilikqx",
        "outputId": "283b5032-50b1-47a1-d023-2ba75a87c32c"
      },
      "execution_count": 17,
      "outputs": [
        {
          "output_type": "stream",
          "name": "stdout",
          "text": [
            "Hola mundo\n"
          ]
        }
      ]
    },
    {
      "cell_type": "markdown",
      "source": [
        "## Solución método 16"
      ],
      "metadata": {
        "id": "9FWn1NtkipQB"
      }
    },
    {
      "cell_type": "code",
      "source": [
        "l = [111, 100, 110, 117, 77, 32, 97, 108, 111, 72]\n",
        "while l:\n",
        "    print(chr(l[-1]),end='')\n",
        "    l.pop()\n",
        "print()"
      ],
      "metadata": {
        "colab": {
          "base_uri": "https://localhost:8080/"
        },
        "id": "MhXU4gGTirFJ",
        "outputId": "a08780b5-c752-4f0a-deb5-90a253f6e799"
      },
      "execution_count": 18,
      "outputs": [
        {
          "output_type": "stream",
          "name": "stdout",
          "text": [
            "Hola Mundo\n"
          ]
        }
      ]
    },
    {
      "cell_type": "markdown",
      "source": [
        "## Solución método 17\n",
        "* Utilizando programación orientada a objetos (POO)\n",
        "* "
      ],
      "metadata": {
        "id": "dxBd3Gtki2_v"
      }
    },
    {
      "cell_type": "code",
      "source": [
        "class HolaMundo:                        # creamos la clase\n",
        "    def __init__(self):                 # método constructor\n",
        "        self.mensaje = \"Hola mundo\"     # usando self podemos utilizar la variable self.mensaje en toda la clase\n",
        "    def print_mensaje(self):            # creamos el método que imprime el mensaje\n",
        "        print(self.mensaje)\n",
        "\n",
        "hola = HolaMundo()                      # instanciamos el objeto, creamos una instancia de clase llamada hola\n",
        "hola.print_mensaje()                    # Llamamos al método usando la nomenclatura del punto:   objeto.método()"
      ],
      "metadata": {
        "colab": {
          "base_uri": "https://localhost:8080/"
        },
        "id": "7cv3RuHki6Rn",
        "outputId": "2842388c-bced-49c7-8f3d-5e68a0822896"
      },
      "execution_count": 19,
      "outputs": [
        {
          "output_type": "stream",
          "name": "stdout",
          "text": [
            "Hola mundo\n"
          ]
        }
      ]
    }
  ]
}