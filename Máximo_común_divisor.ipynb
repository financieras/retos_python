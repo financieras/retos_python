{
  "nbformat": 4,
  "nbformat_minor": 0,
  "metadata": {
    "colab": {
      "provenance": [],
      "authorship_tag": "ABX9TyN2dbJ2db3tNgnQ6ITlLZT0",
      "include_colab_link": true
    },
    "kernelspec": {
      "name": "python3",
      "display_name": "Python 3"
    },
    "language_info": {
      "name": "python"
    }
  },
  "cells": [
    {
      "cell_type": "markdown",
      "metadata": {
        "id": "view-in-github",
        "colab_type": "text"
      },
      "source": [
        "<a href=\"https://colab.research.google.com/github/financieras/retos_python/blob/main/M%C3%A1ximo_com%C3%BAn_divisor.ipynb\" target=\"_parent\"><img src=\"https://colab.research.google.com/assets/colab-badge.svg\" alt=\"Open In Colab\"/></a>"
      ]
    },
    {
      "cell_type": "markdown",
      "source": [
        "# Máximo Común Divisor (MCD)\n",
        "* Greatest Common Divisor (GCD)\n",
        "* Comunes al menor exponente\n",
        "* Ejemplo\n",
        " - $12 = 2 * 2 * 3 = 2^2 * 3$\n",
        " - $18 = 2 * 3 * 3 = 2 * 3^2$\n",
        " - $\\gcd(12,18) = 3*2 = 6$"
      ],
      "metadata": {
        "id": "mndhaxhI88F8"
      }
    },
    {
      "cell_type": "markdown",
      "source": [
        "## Algoritmo de búsqueda del máximo común divisor\n",
        "* Calcular el MCD de dos números.\n",
        "* Hemos tomado literalmente la denominación MCD\n",
        "* Partimos del mínimo entre a y b\n",
        "* Vamos reduciendo valores de uno en uno, hacia atrás hasta encontrar un número que sea capaz de dividir a ambos números a y b con división exacta."
      ],
      "metadata": {
        "id": "5lMzwInJPYxW"
      }
    },
    {
      "cell_type": "code",
      "source": [
        "def mcd(a,b):\n",
        "    for i in range(min(a,b), 0, -1):\n",
        "        if a%i==0 and b%i==0:\n",
        "            return i\n",
        "\n",
        "mcd(12,18)"
      ],
      "metadata": {
        "colab": {
          "base_uri": "https://localhost:8080/"
        },
        "id": "tgVXhKWuA5R5",
        "outputId": "f763e9ac-2309-452b-86db-c6e0060dd726"
      },
      "execution_count": 2,
      "outputs": [
        {
          "output_type": "execute_result",
          "data": {
            "text/plain": [
              "6"
            ]
          },
          "metadata": {},
          "execution_count": 2
        }
      ]
    },
    {
      "cell_type": "markdown",
      "source": [
        "## Algoritmo de Euclides\n",
        "* Calcular el MCD de dos números."
      ],
      "metadata": {
        "id": "QW4zqDDePDTv"
      }
    },
    {
      "cell_type": "markdown",
      "source": [
        "### Solución usando una variable temporal"
      ],
      "metadata": {
        "id": "K65Rat7nPJgy"
      }
    },
    {
      "cell_type": "code",
      "source": [
        "def maximo_comun_divisor(a, b):\n",
        "    temp = 0\n",
        "    while b != 0:\n",
        "        temp = b\n",
        "        b = a % b\n",
        "        a = temp\n",
        "    return a\n",
        "\n",
        "maximo_comun_divisor(12,18)"
      ],
      "metadata": {
        "colab": {
          "base_uri": "https://localhost:8080/"
        },
        "id": "SoYEdz01-uiG",
        "outputId": "790548fd-8493-4fb4-d89c-991bfe9abc6f"
      },
      "execution_count": 3,
      "outputs": [
        {
          "output_type": "execute_result",
          "data": {
            "text/plain": [
              "6"
            ]
          },
          "metadata": {},
          "execution_count": 3
        }
      ]
    },
    {
      "cell_type": "markdown",
      "source": [
        "### Solución permutando tuplas"
      ],
      "metadata": {
        "id": "gry3hp0XPOmv"
      }
    },
    {
      "cell_type": "code",
      "source": [
        "def gcd(a, b):\n",
        "    while b != 0:\n",
        "        a, b = b, a % b\n",
        "    return a\n",
        "\n",
        "gcd(12,18)"
      ],
      "metadata": {
        "colab": {
          "base_uri": "https://localhost:8080/"
        },
        "id": "0sK1fF49_XIB",
        "outputId": "f398b3c8-e65d-408c-a780-090b1e85f1b2"
      },
      "execution_count": 7,
      "outputs": [
        {
          "output_type": "execute_result",
          "data": {
            "text/plain": [
              "6"
            ]
          },
          "metadata": {},
          "execution_count": 7
        }
      ]
    },
    {
      "cell_type": "markdown",
      "source": [
        "## Algoritmo de Euclides para una lista de números\n",
        "El MCD de varios números se calcula asi:\n",
        "* Primero se calcula el MCD de dos números\n",
        "* Luego se calcula el MCD entre el valor obtenido anteriormente y un nuevo número de la lista\n",
        "* Esto se repite con todos los números de la lista"
      ],
      "metadata": {
        "id": "fM5VX8AjR5jy"
      }
    },
    {
      "cell_type": "code",
      "source": [
        "def gcd_list(numbers):\n",
        "    gcd_value = numbers[0]\n",
        "    for num in numbers[1:]:\n",
        "        gcd_value = gcd(gcd_value, num)   # se usa la función gcd anterior\n",
        "    return gcd_value\n",
        "\n",
        "print(gcd_list([48, 18, 30]))"
      ],
      "metadata": {
        "colab": {
          "base_uri": "https://localhost:8080/"
        },
        "id": "gM2a4c73SARx",
        "outputId": "423b9ce7-cb36-4ed0-cba5-6df38b734ad5"
      },
      "execution_count": 8,
      "outputs": [
        {
          "output_type": "stream",
          "name": "stdout",
          "text": [
            "6\n"
          ]
        }
      ]
    },
    {
      "cell_type": "markdown",
      "source": [
        "## Algoritmo de Euclides con recursividad"
      ],
      "metadata": {
        "id": "NNfNcSJSRf0d"
      }
    },
    {
      "cell_type": "code",
      "source": [
        "def gcd_recursive(a, b):\n",
        "    if b == 0:\n",
        "        return a\n",
        "    else:\n",
        "        return gcd_recursive(b, a % b)\n",
        "\n",
        "print(gcd_recursive(12, 18))\n"
      ],
      "metadata": {
        "colab": {
          "base_uri": "https://localhost:8080/"
        },
        "id": "3-N8WqcMRk3u",
        "outputId": "631b1f43-125d-4bc2-d37d-61d25a049d0f"
      },
      "execution_count": 5,
      "outputs": [
        {
          "output_type": "stream",
          "name": "stdout",
          "text": [
            "6\n"
          ]
        }
      ]
    },
    {
      "cell_type": "markdown",
      "source": [
        "## Algoritmo de Euclides con recursividad para una lista de números"
      ],
      "metadata": {
        "id": "EQAi9LE4UP_5"
      }
    },
    {
      "cell_type": "code",
      "source": [
        "def gcd_list_recursive(numbers):\n",
        "    if len(numbers) == 1:\n",
        "        return numbers[0]\n",
        "    else:\n",
        "        return gcd_recursive(numbers[0], gcd_list_recursive(numbers[1:]))\n",
        "\n",
        "print(gcd_list_recursive([48, 18, 30]))\n"
      ],
      "metadata": {
        "colab": {
          "base_uri": "https://localhost:8080/"
        },
        "id": "uouWjnF5UX1T",
        "outputId": "fc561732-ab75-4c40-c837-17cd3dc6fd27"
      },
      "execution_count": 9,
      "outputs": [
        {
          "output_type": "stream",
          "name": "stdout",
          "text": [
            "6\n"
          ]
        }
      ]
    },
    {
      "cell_type": "markdown",
      "source": [
        "## Los MCD de una lista de parejas de números\n",
        "Dada una lista de parejas de números calcular el MCD de cada pareja y devolver todos ellos en forma de lista.\n",
        "\n",
        "Ejemplo  \n",
        "Esta lista de parejas:\n",
        "\n",
        "`[(48, 18), (60, 48), (101, 103)]`\n",
        "\n",
        "devovería la siguiente lista con los MCD de cada pareja:\n",
        "\n",
        "`[6, 12, 1]`"
      ],
      "metadata": {
        "id": "8MErLgMbUsRF"
      }
    },
    {
      "cell_type": "code",
      "source": [
        "def gcd_pairs(pairs):\n",
        "    return [gcd(a, b) for a, b in pairs]\n",
        "\n",
        "print(gcd_pairs([(48, 18), (60, 48), (101, 103)]))"
      ],
      "metadata": {
        "colab": {
          "base_uri": "https://localhost:8080/"
        },
        "id": "l9S2baJiVAIi",
        "outputId": "92f93531-e6bc-4cbe-b638-b2ef56bd2898"
      },
      "execution_count": 10,
      "outputs": [
        {
          "output_type": "stream",
          "name": "stdout",
          "text": [
            "[6, 12, 1]\n"
          ]
        }
      ]
    },
    {
      "cell_type": "code",
      "source": [
        "from math import gcd\n",
        "from functools import reduce\n",
        "\n",
        "def gcd_list(numbers):\n",
        "    return reduce(gcd, numbers)\n",
        "\n",
        "print(gcd_list([48, 18, 30]))  # Debería imprimir 6\n"
      ],
      "metadata": {
        "colab": {
          "base_uri": "https://localhost:8080/"
        },
        "id": "ovEHInffWXcF",
        "outputId": "88e6cd0d-57de-495e-86d5-8f50c86cc343"
      },
      "execution_count": 11,
      "outputs": [
        {
          "output_type": "stream",
          "name": "stdout",
          "text": [
            "6\n"
          ]
        }
      ]
    }
  ]
}