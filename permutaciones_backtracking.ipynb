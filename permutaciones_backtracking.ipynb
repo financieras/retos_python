{
  "nbformat": 4,
  "nbformat_minor": 0,
  "metadata": {
    "colab": {
      "provenance": [],
      "authorship_tag": "ABX9TyOpy/J/Yy9RhmibMaB7nPDQ",
      "include_colab_link": true
    },
    "kernelspec": {
      "name": "python3",
      "display_name": "Python 3"
    },
    "language_info": {
      "name": "python"
    }
  },
  "cells": [
    {
      "cell_type": "markdown",
      "metadata": {
        "id": "view-in-github",
        "colab_type": "text"
      },
      "source": [
        "<a href=\"https://colab.research.google.com/github/financieras/retos_python/blob/main/permutaciones_backtracking.ipynb\" target=\"_parent\"><img src=\"https://colab.research.google.com/assets/colab-badge.svg\" alt=\"Open In Colab\"/></a>"
      ]
    },
    {
      "cell_type": "code",
      "source": [
        "def permute(data, i, length):\n",
        "    if i == length:\n",
        "        print(''.join(data))\n",
        "    else:\n",
        "        for j in range(i, length):\n",
        "            # swap\n",
        "            data[i], data[j] = data[j], data[i]\n",
        "            permute(data, i + 1, length)\n",
        "            data[i], data[j] = data[j], data[i] # backtrack\n",
        "\n",
        "# Ejemplo: lista [a,b,c] de 2 elementos, resultado esperado [a,b] [a,c] [b,a] [b,c] [c,a] [c,b]\n",
        "lista = ['a', 'b', 'c']\n",
        "n = len(lista)\n",
        "permute(lista, 0, n)"
      ],
      "metadata": {
        "colab": {
          "base_uri": "https://localhost:8080/"
        },
        "id": "Mo7apitzmkXb",
        "outputId": "46105e10-6e20-4f2a-aed5-21b0e844eb0b"
      },
      "execution_count": 14,
      "outputs": [
        {
          "output_type": "stream",
          "name": "stdout",
          "text": [
            "abc\n",
            "acb\n",
            "bac\n",
            "bca\n",
            "cba\n",
            "cab\n"
          ]
        }
      ]
    }
  ]
}