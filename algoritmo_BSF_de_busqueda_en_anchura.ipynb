{
  "nbformat": 4,
  "nbformat_minor": 0,
  "metadata": {
    "colab": {
      "provenance": [],
      "authorship_tag": "ABX9TyP2kM4sS3GpRFrJtqnpPF3D",
      "include_colab_link": true
    },
    "kernelspec": {
      "name": "python3",
      "display_name": "Python 3"
    },
    "language_info": {
      "name": "python"
    }
  },
  "cells": [
    {
      "cell_type": "markdown",
      "metadata": {
        "id": "view-in-github",
        "colab_type": "text"
      },
      "source": [
        "<a href=\"https://colab.research.google.com/github/financieras/retos_python/blob/main/algoritmo_BSF_de_busqueda_en_anchura.ipynb\" target=\"_parent\"><img src=\"https://colab.research.google.com/assets/colab-badge.svg\" alt=\"Open In Colab\"/></a>"
      ]
    },
    {
      "cell_type": "markdown",
      "source": [
        "# Algoritmo de Backtraking para resolver un laberinto\n",
        "El código utiliza el algoritmo de backtracking para resolver un laberinto.\n",
        "\n",
        "1. El código busca la posición del punto de partida y del punto final en la matriz del laberinto. Luego, llama a la función backtrack para encontrar la solución al laberinto.\n",
        "\n",
        "2. La función backtrack es una función recursiva que utiliza el algoritmo de backtracking para encontrar la solución al laberinto. La función toma como argumentos:\n",
        " 1. `maze` la matriz del laberinto\n",
        " 2. `current` la posición actual del jugador\n",
        " 3. `end` la posición final del jugador\n",
        " 4. `path` una lista de posiciones que representan el camino que ha seguido el jugador hasta ahora\n",
        " 5. `visited` una lista de posiciones que representan las posiciones que ya ha visitado el jugador\n",
        "\n",
        "3. La función comienza agregando la posición actual a la lista de posiciones visitadas. Luego, comprueba si la posición actual es igual a la posición final. Si es así, agrega la posición actual a la lista de posiciones del camino y devuelve True.\n",
        "\n",
        "Si la posición actual no es igual a la posición final, la función busca las posibles direcciones en las que el jugador puede moverse (arriba, abajo, izquierda o derecha). Para cada dirección posible, comprueba si el jugador puede moverse en esa dirección (es decir, si no hay una pared en esa dirección), si el jugador ya ha visitado esa posición y si esa posición está dentro de los límites del laberinto.\n",
        "\n",
        "Si se cumple todo lo anterior, agrega la posición actual a la lista de posiciones del camino y llama recursivamente a la función backtrack con la nueva posición. Si esta llamada recursiva devuelve True, significa que se ha encontrado una solución y devuelve True. Si no se encuentra ninguna solución en ninguna de las direcciones posibles, elimina la última posición agregada a la lista de posiciones del camino y devuelve False.\n",
        "\n",
        "La función solve_maze es simplemente una envoltura para llamar a la función backtrack con los argumentos correctos y luego imprimir el resultado."
      ],
      "metadata": {
        "id": "ShtxMHD4OKU6"
      }
    },
    {
      "cell_type": "code",
      "source": [
        "maze = [['·','·','·','·','·','·','·','·','·','·'],\n",
        "        ['·','S','·','·','·','1','·','·','1','·'],\n",
        "        ['·','·','·','·','1','·','·','1','·','·'],\n",
        "        ['·','·','·','1','·','·','1','·','·','1'],\n",
        "        ['·','·','1','·','·','1','·','1','1','·'],\n",
        "        ['·','1','·','·','1','·','·','·','·','F'],\n",
        "        ['·','·','1','·','·','·','·','1','·','·'],\n",
        "        ['1','·','·','1','·','1','1','1','·','·'],\n",
        "        ['·','·','1','1','1','·','·','·','1','·'],\n",
        "        ['·','·','·','·','·','·','1','·','·','·']]\n",
        "\n",
        "def solve_maze(maze):\n",
        "    start = None\n",
        "    end = None\n",
        "    for i in range(len(maze)):\n",
        "        for j in range(len(maze[i])):\n",
        "            if maze[i][j] == \"S\":\n",
        "                start = (i,j)\n",
        "            elif maze[i][j] == \"F\":\n",
        "                end = (i,j)\n",
        "    path = []\n",
        "    visited = []\n",
        "    if backtrack(maze,start,end,path,visited):\n",
        "        for i in range(len(maze)):\n",
        "            for j in range(len(maze[i])):\n",
        "                if (i,j) in path:\n",
        "                    print(\"o\",end=\" \")\n",
        "                else:\n",
        "                    print(maze[i][j],end=\" \")\n",
        "            print()\n",
        "    else:\n",
        "        print(\"No solution found\")\n",
        "\n",
        "def backtrack(maze, current, end, path, visited):\n",
        "    if current == end:\n",
        "        path.append(current)\n",
        "        return True\n",
        "    visited.append(current)\n",
        "    directions = [(0,-1),(0,1),(-1,0),(1,0)]\n",
        "    for d in directions:\n",
        "        next_pos = (current[0] + d[0], current[1] + d[1])\n",
        "        if next_pos[0] < 0 or next_pos[0] >= len(maze) or next_pos[1] < 0 or next_pos[1] >= len(maze[0]):\n",
        "            continue\n",
        "        if maze[next_pos[0]][next_pos[1]] == \"1\":\n",
        "            continue\n",
        "        if next_pos in visited:\n",
        "            continue\n",
        "        path.append(current)\n",
        "        if backtrack(maze, next_pos, end, path, visited):\n",
        "            return True\n",
        "        path.pop()\n",
        "    return False\n",
        "\n",
        "solve_maze(maze)"
      ],
      "metadata": {
        "colab": {
          "base_uri": "https://localhost:8080/"
        },
        "id": "PAwXpFpfKKAT",
        "outputId": "ccde755a-a051-432c-cb3d-5d0849ce9c54"
      },
      "execution_count": null,
      "outputs": [
        {
          "output_type": "stream",
          "name": "stdout",
          "text": [
            "o o o o o o o o · · \n",
            "o o · · · 1 o o 1 · \n",
            "· · · · 1 o o 1 · · \n",
            "· · · 1 o o 1 · · 1 \n",
            "· · 1 o o 1 · 1 1 · \n",
            "· 1 · o 1 · o o o o \n",
            "· · 1 o o o o 1 · · \n",
            "1 · · 1 · 1 1 1 · · \n",
            "· · 1 1 1 · · · 1 · \n",
            "· · · · · · 1 · · · \n"
          ]
        }
      ]
    },
    {
      "cell_type": "markdown",
      "source": [
        "# Algoritmo BFS\n",
        "https://es.wikipedia.org/wiki/B%C3%BAsqueda_en_anchura\n",
        "\n",
        "El algoritmo de backtracking encuentra una solución al laberinto, pero no necesariamente es la solución más corta o con el menor número de pasos.\n",
        "\n",
        "Para encontrar la solución más corta o con el menor número de pasos, se puede utilizar otro algoritmo llamado “Búsqueda en anchura” (también conocido como “BFS”, por sus siglas en inglés). Este algoritmo explora todos los nodos del laberinto en orden de distancia desde el punto de partida y encuentra la solución más corta.\n",
        "\n",
        "Se utiliza BFS para encontrar el camino más corto desde el punto de inicio hasta el punto final. El algoritmo BFS utiliza una cola para almacenar los nodos visitados y sus vecinos.\n",
        "\n",
        "1. Se define la función `bfs(maze, start, end)` que toma tres argumentos:\n",
        " 1. el laberinto representado como una matriz,\n",
        " 2. la posición de inicio y\n",
        " 3. la posición final.\n",
        "2. La función utiliza una cola para almacenar los nodos visitados y sus vecinos.\n",
        "3. Luego, se inicializa un conjunto vacío para almacenar los nodos visitados.\n",
        "4. A continuación, se definen las direcciones en las que se puede mover en el laberinto.\n",
        "5. Luego, se recorre cada dirección y se comprueba si la siguiente posición es válida (es decir, si está dentro del laberinto y no es una pared).\n",
        "6. Si la siguiente posición es válida y no ha sido visitada anteriormente, se agrega a la cola junto con el camino actual.\n",
        "7. Este proceso continúa hasta que se encuentra la posición final o hasta que no hay más posiciones por explorar.\n",
        "\n",
        "8. La función `solve_maze(maze)` recorre la matriz del laberinto y busca las posiciones de inicio y final.\n",
        " 1. Luego, llama a la función `bfs(maze, start, end)` para encontrar el camino más corto desde el punto de inicio hasta el punto final.\n",
        " 2. Si no se encuentra ninguna solución, se imprime “No solution found”.\n",
        " 3. De lo contrario, se imprime una representación visual del camino más corto en el laberinto1."
      ],
      "metadata": {
        "id": "qgpX8ZM3TFeU"
      }
    },
    {
      "cell_type": "code",
      "source": [
        "from collections import deque\n",
        "\n",
        "maze = [['·','·','·','·','·','·','·','·','·','·'],\n",
        "        ['·','S','·','·','·','1','·','·','1','·'],\n",
        "        ['·','·','·','·','1','·','·','1','·','·'],\n",
        "        ['·','·','·','1','·','·','1','·','·','1'],\n",
        "        ['·','·','1','·','·','1','·','1','1','·'],\n",
        "        ['·','1','·','·','1','·','·','·','·','F'],\n",
        "        ['·','·','1','·','·','·','·','1','·','·'],\n",
        "        ['1','·','·','1','·','1','1','1','·','·'],\n",
        "        ['·','·','1','1','1','·','·','·','1','·'],\n",
        "        ['·','·','·','·','·','·','1','·','·','·']]\n",
        "\n",
        "def bfs(maze,start,end):\n",
        "    queue = deque([(start,[])])\n",
        "    visited = set()\n",
        "    while queue:\n",
        "        current, path = queue.popleft()\n",
        "        if current == end:\n",
        "            path.append(current)\n",
        "            return path                 # si hay solución retorna el path\n",
        "        visited.add(current)\n",
        "        directions = [(0,-1),(0,1),(-1,0),(1,0)]\n",
        "        for d in directions:\n",
        "            next_pos = (current[0]+d[0],current[1]+d[1])\n",
        "            if next_pos[0] < 0 or next_pos[0] >= len(maze) or next_pos[1] < 0 or next_pos[1] >= len(maze[0]):\n",
        "                continue\n",
        "            if maze[next_pos[0]][next_pos[1]] == \"1\":\n",
        "                continue\n",
        "            if next_pos in visited:\n",
        "                continue\n",
        "            queue.append((next_pos,path+[current]))\n",
        "    return None\n",
        "\n",
        "def solve_maze(maze):\n",
        "    start = None\n",
        "    end = None\n",
        "    for i in range(len(maze)):          # recorre el laberinto\n",
        "        for j in range(len(maze[i])):\n",
        "            if maze[i][j] == \"S\":       # detecta la posición de inicio\n",
        "                start = (i,j)\n",
        "            elif maze[i][j] == \"F\":     # detecta la posición de final\n",
        "                end = (i,j)\n",
        "    path = bfs(maze, start, end)  # llama a la función bsf para encontrar el camino más corto\n",
        "    if path is None:                # si el path es None\n",
        "        print(\"No solution found\")  # imprime que no ha encontrado solución\n",
        "    else:                           # en caso contrario\n",
        "        for i in range(len(maze)):  # imprime la matriz con el laberinto resuelto\n",
        "            for j in range(len(maze[i])):\n",
        "                if (i,j) in path:   # si la posición (i,j) está en el path imprime \"o\"\n",
        "                    print(\"o\",end=\" \")\n",
        "                else:                           # en caso contrario\n",
        "                    print(maze[i][j],end=\" \")   # imprime lo que había inicialmente: 1 o '·'\n",
        "            print()\n",
        "\n",
        "solve_maze(maze)"
      ],
      "metadata": {
        "colab": {
          "base_uri": "https://localhost:8080/"
        },
        "id": "XW-yLGytQvz9",
        "outputId": "9c683e81-1096-4f98-d537-a5f7ddbc7225"
      },
      "execution_count": 3,
      "outputs": [
        {
          "output_type": "stream",
          "name": "stdout",
          "text": [
            "· · · · o o o · · · \n",
            "· o o o o 1 o · 1 · \n",
            "· · · · 1 o o 1 · · \n",
            "· · · 1 o o 1 · · 1 \n",
            "· · 1 o o 1 · 1 1 · \n",
            "· 1 · o 1 · o o o o \n",
            "· · 1 o o o o 1 · · \n",
            "1 · · 1 · 1 1 1 · · \n",
            "· · 1 1 1 · · · 1 · \n",
            "· · · · · · 1 · · · \n"
          ]
        }
      ]
    },
    {
      "cell_type": "markdown",
      "source": [
        "## Sin usar librerías"
      ],
      "metadata": {
        "id": "OaCHo-B26z1Y"
      }
    },
    {
      "cell_type": "code",
      "source": [
        "maze = [['·','·','·','·','·','·','·','·','·','·'],\n",
        "        ['·','S','·','·','·','1','·','·','1','·'],\n",
        "        ['·','·','·','·','1','·','·','1','·','·'],\n",
        "        ['·','·','·','1','·','·','1','·','·','1'],\n",
        "        ['·','·','1','·','·','1','·','1','1','·'],\n",
        "        ['·','1','·','·','1','·','·','·','·','F'],\n",
        "        ['·','·','1','·','·','·','·','1','·','·'],\n",
        "        ['1','·','·','1','·','1','1','1','·','·'],\n",
        "        ['·','·','1','1','1','·','·','·','1','·'],\n",
        "        ['·','·','·','·','·','·','1','·','·','·']]\n",
        "\n",
        "def bfs(maze, start, end):  # la función utiliza una cola para almacenar los nodos visitados y sus vecinos\n",
        "    queue = [(start,[])]    # la cola se inicializa con la posición de inicio y una lista vacía\n",
        "    visited = set()\n",
        "    while queue:\n",
        "        current,path = queue.pop(0)\n",
        "        if current == end:\n",
        "            path.append(current)\n",
        "            print(queue)\n",
        "            return path\n",
        "        visited.add(current)\n",
        "        directions = [(0,-1),(0,1),(-1,0),(1,0)]\n",
        "        for d in directions:\n",
        "            next_pos = (current[0] + d[0], current[1] + d[1])\n",
        "            if next_pos[0] < 0 or next_pos[0] >= len(maze) or next_pos[1] < 0 or next_pos[1] >= len(maze[0]):\n",
        "                continue\n",
        "            if maze[next_pos[0]][next_pos[1]] == \"1\":\n",
        "                continue\n",
        "            if next_pos in visited:\n",
        "                continue\n",
        "            queue.append((next_pos, path + [current]))\n",
        "    return None\n",
        "\n",
        "def solve_maze(maze):\n",
        "    start = None\n",
        "    end = None\n",
        "    for i in range(len(maze)):          # recorre el laberinto\n",
        "        for j in range(len(maze[i])):\n",
        "            if maze[i][j] == \"S\":       # detecta la posición de inicio\n",
        "                start = (i,j)\n",
        "            elif maze[i][j] == \"F\":     # detecta la posición de final\n",
        "                end = (i,j)\n",
        "    path = bfs(maze, start, end)        # llama a la función bsf para encontrar el camino más corto\n",
        "    if path is None:                    # si el path es None\n",
        "        print(\"No solution found\")      # imprime que no ha encontrado solución\n",
        "    else:                               # en caso contrario\n",
        "        for i in range(len(maze)):      # imprime la matriz con el laberinto resuelto\n",
        "            for j in range(len(maze[i])):\n",
        "                if (i,j) in path:       # si la posición (i,j) está en el path imprime \"o\"\n",
        "                    print(\"o\",end=\" \")\n",
        "                else:                   # en caso contrario\n",
        "                    print(maze[i][j],end=\" \")   # imprime lo que había inicialmente: 1 o '·'\n",
        "            print()\n",
        "\n",
        "solve_maze(maze)"
      ],
      "metadata": {
        "id": "Qtxij-Sd63Wj",
        "outputId": "8ac533a2-6a1d-429e-abfd-af749726ea26",
        "colab": {
          "base_uri": "https://localhost:8080/"
        }
      },
      "execution_count": 5,
      "outputs": [
        {
          "output_type": "stream",
          "name": "stdout",
          "text": [
            "[((6, 8), [(1, 1), (1, 2), (1, 3), (1, 4), (0, 4), (0, 5), (0, 6), (1, 6), (2, 6), (2, 5), (3, 5), (3, 4), (4, 4), (4, 3), (5, 3), (6, 3), (6, 4), (6, 5), (6, 6), (5, 6), (5, 7), (5, 8)]), ((5, 9), [(1, 1), (1, 2), (1, 3), (1, 4), (0, 4), (0, 5), (0, 6), (1, 6), (2, 6), (2, 5), (3, 5), (3, 4), (4, 4), (4, 3), (5, 3), (6, 3), (6, 4), (6, 5), (5, 5), (5, 6), (5, 7), (5, 8)]), ((6, 8), [(1, 1), (1, 2), (1, 3), (1, 4), (0, 4), (0, 5), (0, 6), (1, 6), (2, 6), (2, 5), (3, 5), (3, 4), (4, 4), (4, 3), (5, 3), (6, 3), (6, 4), (6, 5), (5, 5), (5, 6), (5, 7), (5, 8)]), ((5, 9), [(1, 1), (1, 2), (1, 3), (0, 3), (0, 4), (0, 5), (0, 6), (1, 6), (2, 6), (2, 5), (3, 5), (3, 4), (4, 4), (4, 3), (5, 3), (6, 3), (6, 4), (6, 5), (6, 6), (5, 6), (5, 7), (5, 8)]), ((6, 8), [(1, 1), (1, 2), (1, 3), (0, 3), (0, 4), (0, 5), (0, 6), (1, 6), (2, 6), (2, 5), (3, 5), (3, 4), (4, 4), (4, 3), (5, 3), (6, 3), (6, 4), (6, 5), (6, 6), (5, 6), (5, 7), (5, 8)]), ((5, 9), [(1, 1), (1, 2), (1, 3), (0, 3), (0, 4), (0, 5), (0, 6), (1, 6), (2, 6), (2, 5), (3, 5), (3, 4), (4, 4), (4, 3), (5, 3), (6, 3), (6, 4), (6, 5), (5, 5), (5, 6), (5, 7), (5, 8)]), ((6, 8), [(1, 1), (1, 2), (1, 3), (0, 3), (0, 4), (0, 5), (0, 6), (1, 6), (2, 6), (2, 5), (3, 5), (3, 4), (4, 4), (4, 3), (5, 3), (6, 3), (6, 4), (6, 5), (5, 5), (5, 6), (5, 7), (5, 8)]), ((5, 9), [(1, 1), (1, 2), (0, 2), (0, 3), (0, 4), (0, 5), (0, 6), (1, 6), (2, 6), (2, 5), (3, 5), (3, 4), (4, 4), (4, 3), (5, 3), (6, 3), (6, 4), (6, 5), (6, 6), (5, 6), (5, 7), (5, 8)]), ((6, 8), [(1, 1), (1, 2), (0, 2), (0, 3), (0, 4), (0, 5), (0, 6), (1, 6), (2, 6), (2, 5), (3, 5), (3, 4), (4, 4), (4, 3), (5, 3), (6, 3), (6, 4), (6, 5), (6, 6), (5, 6), (5, 7), (5, 8)]), ((5, 9), [(1, 1), (1, 2), (0, 2), (0, 3), (0, 4), (0, 5), (0, 6), (1, 6), (2, 6), (2, 5), (3, 5), (3, 4), (4, 4), (4, 3), (5, 3), (6, 3), (6, 4), (6, 5), (5, 5), (5, 6), (5, 7), (5, 8)]), ((6, 8), [(1, 1), (1, 2), (0, 2), (0, 3), (0, 4), (0, 5), (0, 6), (1, 6), (2, 6), (2, 5), (3, 5), (3, 4), (4, 4), (4, 3), (5, 3), (6, 3), (6, 4), (6, 5), (5, 5), (5, 6), (5, 7), (5, 8)]), ((5, 9), [(1, 1), (0, 1), (0, 2), (0, 3), (0, 4), (0, 5), (0, 6), (1, 6), (2, 6), (2, 5), (3, 5), (3, 4), (4, 4), (4, 3), (5, 3), (6, 3), (6, 4), (6, 5), (6, 6), (5, 6), (5, 7), (5, 8)]), ((6, 8), [(1, 1), (0, 1), (0, 2), (0, 3), (0, 4), (0, 5), (0, 6), (1, 6), (2, 6), (2, 5), (3, 5), (3, 4), (4, 4), (4, 3), (5, 3), (6, 3), (6, 4), (6, 5), (6, 6), (5, 6), (5, 7), (5, 8)]), ((5, 9), [(1, 1), (0, 1), (0, 2), (0, 3), (0, 4), (0, 5), (0, 6), (1, 6), (2, 6), (2, 5), (3, 5), (3, 4), (4, 4), (4, 3), (5, 3), (6, 3), (6, 4), (6, 5), (5, 5), (5, 6), (5, 7), (5, 8)]), ((6, 8), [(1, 1), (0, 1), (0, 2), (0, 3), (0, 4), (0, 5), (0, 6), (1, 6), (2, 6), (2, 5), (3, 5), (3, 4), (4, 4), (4, 3), (5, 3), (6, 3), (6, 4), (6, 5), (5, 5), (5, 6), (5, 7), (5, 8)]), ((7, 9), [(1, 1), (2, 1), (2, 0), (3, 0), (4, 0), (5, 0), (6, 0), (6, 1), (7, 1), (8, 1), (9, 1), (9, 2), (9, 3), (9, 4), (9, 5), (8, 5), (8, 6), (8, 7), (9, 7), (9, 8), (9, 9), (8, 9)]), ((7, 9), [(1, 1), (2, 1), (3, 1), (3, 0), (4, 0), (5, 0), (6, 0), (6, 1), (7, 1), (8, 1), (9, 1), (9, 2), (9, 3), (9, 4), (9, 5), (8, 5), (8, 6), (8, 7), (9, 7), (9, 8), (9, 9), (8, 9)]), ((7, 9), [(1, 1), (2, 1), (3, 1), (4, 1), (4, 0), (5, 0), (6, 0), (6, 1), (7, 1), (8, 1), (9, 1), (9, 2), (9, 3), (9, 4), (9, 5), (8, 5), (8, 6), (8, 7), (9, 7), (9, 8), (9, 9), (8, 9)]), ((7, 8), [(1, 1), (1, 0), (2, 0), (3, 0), (4, 0), (5, 0), (6, 0), (6, 1), (7, 1), (8, 1), (9, 1), (9, 2), (9, 3), (9, 4), (9, 5), (8, 5), (8, 6), (8, 7), (9, 7), (9, 8), (9, 9), (8, 9), (7, 9)]), ((6, 9), [(1, 1), (1, 0), (2, 0), (3, 0), (4, 0), (5, 0), (6, 0), (6, 1), (7, 1), (8, 1), (9, 1), (9, 2), (9, 3), (9, 4), (9, 5), (8, 5), (8, 6), (8, 7), (9, 7), (9, 8), (9, 9), (8, 9), (7, 9)])]\n",
            "· · · · o o o · · · \n",
            "· o o o o 1 o · 1 · \n",
            "· · · · 1 o o 1 · · \n",
            "· · · 1 o o 1 · · 1 \n",
            "· · 1 o o 1 · 1 1 · \n",
            "· 1 · o 1 · o o o o \n",
            "· · 1 o o o o 1 · · \n",
            "1 · · 1 · 1 1 1 · · \n",
            "· · 1 1 1 · · · 1 · \n",
            "· · · · · · 1 · · · \n"
          ]
        }
      ]
    }
  ]
}