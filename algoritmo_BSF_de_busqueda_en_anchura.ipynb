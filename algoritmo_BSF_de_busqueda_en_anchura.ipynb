{
  "nbformat": 4,
  "nbformat_minor": 0,
  "metadata": {
    "colab": {
      "provenance": [],
      "authorship_tag": "ABX9TyNUAsQwF0XmRSB1Jb95QW2z",
      "include_colab_link": true
    },
    "kernelspec": {
      "name": "python3",
      "display_name": "Python 3"
    },
    "language_info": {
      "name": "python"
    }
  },
  "cells": [
    {
      "cell_type": "markdown",
      "metadata": {
        "id": "view-in-github",
        "colab_type": "text"
      },
      "source": [
        "<a href=\"https://colab.research.google.com/github/financieras/retos_python/blob/main/algoritmo_BSF_de_busqueda_en_anchura.ipynb\" target=\"_parent\"><img src=\"https://colab.research.google.com/assets/colab-badge.svg\" alt=\"Open In Colab\"/></a>"
      ]
    },
    {
      "cell_type": "markdown",
      "source": [
        "# Algoritmo de Backtraking para resolver un laberinto\n",
        "El código utiliza el algoritmo de backtracking para resolver un laberinto.\n",
        "\n",
        "1. El código busca la posición del punto de partida y del punto final en la matriz del laberinto. Luego, llama a la función backtrack para encontrar la solución al laberinto.\n",
        "\n",
        "2. La función backtrack es una función recursiva que utiliza el algoritmo de backtracking para encontrar la solución al laberinto. La función toma como argumentos:\n",
        " 1. `maze` la matriz del laberinto\n",
        " 2. `current` la posición actual del jugador\n",
        " 3. `end` la posición final del jugador\n",
        " 4. `path` una lista de posiciones que representan el camino que ha seguido el jugador hasta ahora\n",
        " 5. `visited` una lista de posiciones que representan las posiciones que ya ha visitado el jugador\n",
        "\n",
        "3. La función comienza agregando la posición actual a la lista de posiciones visitadas. Luego, comprueba si la posición actual es igual a la posición final. Si es así, agrega la posición actual a la lista de posiciones del camino y devuelve True.\n",
        "\n",
        "Si la posición actual no es igual a la posición final, la función busca las posibles direcciones en las que el jugador puede moverse (arriba, abajo, izquierda o derecha). Para cada dirección posible, comprueba si el jugador puede moverse en esa dirección (es decir, si no hay una pared en esa dirección), si el jugador ya ha visitado esa posición y si esa posición está dentro de los límites del laberinto.\n",
        "\n",
        "Si se cumple todo lo anterior, agrega la posición actual a la lista de posiciones del camino y llama recursivamente a la función backtrack con la nueva posición. Si esta llamada recursiva devuelve True, significa que se ha encontrado una solución y devuelve True. Si no se encuentra ninguna solución en ninguna de las direcciones posibles, elimina la última posición agregada a la lista de posiciones del camino y devuelve False.\n",
        "\n",
        "La función solve_maze es simplemente una envoltura para llamar a la función backtrack con los argumentos correctos y luego imprimir el resultado."
      ],
      "metadata": {
        "id": "ShtxMHD4OKU6"
      }
    },
    {
      "cell_type": "code",
      "source": [
        "maze = [['·','·','·','·','·','·','·','·','·','·'],\n",
        "        ['·','S','·','·','·','1','·','·','1','·'],\n",
        "        ['·','·','·','·','1','·','·','1','·','·'],\n",
        "        ['·','·','·','1','·','·','1','·','·','1'],\n",
        "        ['·','·','1','·','·','1','·','1','1','·'],\n",
        "        ['·','1','·','·','1','·','·','·','·','F'],\n",
        "        ['·','·','1','·','·','·','·','1','·','·'],\n",
        "        ['1','·','·','1','·','1','1','1','·','·'],\n",
        "        ['·','·','1','1','1','·','·','·','1','·'],\n",
        "        ['·','·','·','·','·','·','1','·','·','·']]\n",
        "\n",
        "def solve_maze(maze):\n",
        "    start = None\n",
        "    end = None\n",
        "    for i in range(len(maze)):\n",
        "        for j in range(len(maze[i])):\n",
        "            if maze[i][j] == \"S\":\n",
        "                start = (i,j)\n",
        "            elif maze[i][j] == \"F\":\n",
        "                end = (i,j)\n",
        "    path = []\n",
        "    visited = []\n",
        "    if backtrack(maze,start,end,path,visited):\n",
        "        for i in range(len(maze)):\n",
        "            for j in range(len(maze[i])):\n",
        "                if (i,j) in path:\n",
        "                    print(\"o\",end=\" \")\n",
        "                else:\n",
        "                    print(maze[i][j],end=\" \")\n",
        "            print()\n",
        "    else:\n",
        "        print(\"No solution found\")\n",
        "\n",
        "def backtrack(maze, current, end, path, visited):\n",
        "    if current == end:\n",
        "        path.append(current)\n",
        "        return True\n",
        "    visited.append(current)\n",
        "    directions = [(0,-1),(0,1),(-1,0),(1,0)]\n",
        "    for d in directions:\n",
        "        next_pos = (current[0] + d[0], current[1] + d[1])\n",
        "        if next_pos[0] < 0 or next_pos[0] >= len(maze) or next_pos[1] < 0 or next_pos[1] >= len(maze[0]):\n",
        "            continue\n",
        "        if maze[next_pos[0]][next_pos[1]] == \"1\":\n",
        "            continue\n",
        "        if next_pos in visited:\n",
        "            continue\n",
        "        path.append(current)\n",
        "        if backtrack(maze, next_pos, end, path, visited):\n",
        "            return True\n",
        "        path.pop()\n",
        "    return False\n",
        "\n",
        "solve_maze(maze)"
      ],
      "metadata": {
        "colab": {
          "base_uri": "https://localhost:8080/"
        },
        "id": "PAwXpFpfKKAT",
        "outputId": "ccde755a-a051-432c-cb3d-5d0849ce9c54"
      },
      "execution_count": null,
      "outputs": [
        {
          "output_type": "stream",
          "name": "stdout",
          "text": [
            "o o o o o o o o · · \n",
            "o o · · · 1 o o 1 · \n",
            "· · · · 1 o o 1 · · \n",
            "· · · 1 o o 1 · · 1 \n",
            "· · 1 o o 1 · 1 1 · \n",
            "· 1 · o 1 · o o o o \n",
            "· · 1 o o o o 1 · · \n",
            "1 · · 1 · 1 1 1 · · \n",
            "· · 1 1 1 · · · 1 · \n",
            "· · · · · · 1 · · · \n"
          ]
        }
      ]
    },
    {
      "cell_type": "markdown",
      "source": [
        "# Algoritmo BFS\n",
        "https://es.wikipedia.org/wiki/B%C3%BAsqueda_en_anchura\n",
        "\n",
        "El algoritmo de backtracking encuentra una solución al laberinto, pero no necesariamente es la solución más corta o con el menor número de pasos.\n",
        "\n",
        "Para encontrar la solución más corta o con el menor número de pasos, se puede utilizar otro algoritmo llamado “Búsqueda en anchura” (también conocido como “BFS”, por sus siglas en inglés). Este algoritmo explora todos los nodos del laberinto en orden de distancia desde el punto de partida y encuentra la solución más corta.\n",
        "\n",
        "Se utiliza BFS para encontrar el camino más corto desde el punto de inicio hasta el punto final. El algoritmo BFS utiliza una cola para almacenar los nodos visitados y sus vecinos.\n",
        "\n",
        "1. Se define la función `bfs(maze, start, end)` que toma tres argumentos:\n",
        " 1. el laberinto representado como una matriz,\n",
        " 2. la posición de inicio y\n",
        " 3. la posición final.\n",
        "2. La función utiliza una cola para almacenar los nodos visitados y sus vecinos.\n",
        "3. Luego, se inicializa un conjunto vacío para almacenar los nodos visitados.\n",
        "4. A continuación, se definen las direcciones en las que se puede mover en el laberinto.\n",
        "5. Luego, se recorre cada dirección y se comprueba si la siguiente posición es válida (es decir, si está dentro del laberinto y no es una pared).\n",
        "6. Si la siguiente posición es válida y no ha sido visitada anteriormente, se agrega a la cola junto con el camino actual.\n",
        "7. Este proceso continúa hasta que se encuentra la posición final o hasta que no hay más posiciones por explorar.\n",
        "\n",
        "8. La función `solve_maze(maze)` recorre la matriz del laberinto y busca las posiciones de inicio y final.\n",
        " 1. Luego, llama a la función `bfs(maze, start, end)` para encontrar el camino más corto desde el punto de inicio hasta el punto final.\n",
        " 2. Si no se encuentra ninguna solución, se imprime “No solution found”.\n",
        " 3. De lo contrario, se imprime una representación visual del camino más corto en el laberinto1."
      ],
      "metadata": {
        "id": "qgpX8ZM3TFeU"
      }
    },
    {
      "cell_type": "code",
      "source": [
        "from collections import deque\n",
        "\n",
        "maze = [['·','·','·','·','·','·','·','·','·','·'],\n",
        "        ['·','S','·','·','·','1','·','·','1','·'],\n",
        "        ['·','·','·','·','1','·','·','1','·','·'],\n",
        "        ['·','·','·','1','·','·','1','·','·','1'],\n",
        "        ['·','·','1','·','·','1','·','1','1','·'],\n",
        "        ['·','1','·','·','1','·','·','·','·','F'],\n",
        "        ['·','·','1','·','·','·','·','1','·','·'],\n",
        "        ['1','·','·','1','·','1','1','1','·','·'],\n",
        "        ['·','·','1','1','1','·','·','·','1','·'],\n",
        "        ['·','·','·','·','·','·','1','·','·','·']]\n",
        "\n",
        "def bfs(maze,start,end):\n",
        "    queue = deque([(start,[])])\n",
        "    visited = set()\n",
        "    while queue:\n",
        "        current, path = queue.popleft()\n",
        "        if current == end:\n",
        "            path.append(current)\n",
        "            return path                 # si hay solución retorna el path\n",
        "        visited.add(current)\n",
        "        directions = [(0,-1),(0,1),(-1,0),(1,0)]\n",
        "        for d in directions:\n",
        "            next_pos = (current[0]+d[0],current[1]+d[1])\n",
        "            if next_pos[0] < 0 or next_pos[0] >= len(maze) or next_pos[1] < 0 or next_pos[1] >= len(maze[0]):\n",
        "                continue\n",
        "            if maze[next_pos[0]][next_pos[1]] == \"1\":\n",
        "                continue\n",
        "            if next_pos in visited:\n",
        "                continue\n",
        "            queue.append((next_pos,path+[current]))\n",
        "    return None\n",
        "\n",
        "def solve_maze(maze):\n",
        "    start = None\n",
        "    end = None\n",
        "    for i in range(len(maze)):          # recorre el laberinto\n",
        "        for j in range(len(maze[i])):\n",
        "            if maze[i][j] == \"S\":       # detecta la posición de inicio\n",
        "                start = (i,j)\n",
        "            elif maze[i][j] == \"F\":     # detecta la posición de final\n",
        "                end = (i,j)\n",
        "    path = bfs(maze, start, end)  # llama a la función bsf para encontrar el camino más corto\n",
        "    if path is None:                # si el path es None\n",
        "        print(\"No solution found\")  # imprime que no ha encontrado solución\n",
        "    else:                           # en caso contrario\n",
        "        for i in range(len(maze)):  # imprime la matriz con el laberinto resuelto\n",
        "            for j in range(len(maze[i])):\n",
        "                if (i,j) in path:   # si la posición (i,j) está en el path imprime \"o\"\n",
        "                    print(\"o\",end=\" \")\n",
        "                else:                           # en caso contrario\n",
        "                    print(maze[i][j],end=\" \")   # imprime lo que había inicialmente: 1 o '·'\n",
        "            print()\n",
        "\n",
        "solve_maze(maze)"
      ],
      "metadata": {
        "colab": {
          "base_uri": "https://localhost:8080/"
        },
        "id": "XW-yLGytQvz9",
        "outputId": "9c683e81-1096-4f98-d537-a5f7ddbc7225"
      },
      "execution_count": null,
      "outputs": [
        {
          "output_type": "stream",
          "name": "stdout",
          "text": [
            "· · · · o o o · · · \n",
            "· o o o o 1 o · 1 · \n",
            "· · · · 1 o o 1 · · \n",
            "· · · 1 o o 1 · · 1 \n",
            "· · 1 o o 1 · 1 1 · \n",
            "· 1 · o 1 · o o o o \n",
            "· · 1 o o o o 1 · · \n",
            "1 · · 1 · 1 1 1 · · \n",
            "· · 1 1 1 · · · 1 · \n",
            "· · · · · · 1 · · · \n"
          ]
        }
      ]
    },
    {
      "cell_type": "markdown",
      "source": [
        "## Sin usar librerías"
      ],
      "metadata": {
        "id": "OaCHo-B26z1Y"
      }
    },
    {
      "cell_type": "code",
      "source": [
        "maze = [['·','·','·','·','·','·','·','·','·','·'],\n",
        "        ['·','S','·','·','·','1','·','·','1','·'],\n",
        "        ['·','·','·','·','1','·','·','1','·','·'],\n",
        "        ['·','·','·','1','·','·','1','·','·','1'],\n",
        "        ['·','·','1','·','·','1','·','1','1','·'],\n",
        "        ['·','1','·','·','1','·','·','·','·','F'],\n",
        "        ['·','·','1','·','·','·','·','1','·','·'],\n",
        "        ['1','·','·','1','·','1','1','1','·','·'],\n",
        "        ['·','·','1','1','1','·','·','·','1','·'],\n",
        "        ['·','·','·','·','·','·','1','·','·','·']]\n",
        "\n",
        "def bfs(maze, start, end):  # la función utiliza una cola para almacenar los nodos visitados y sus vecinos\n",
        "    queue = [(start,[])]    # la cola se inicializa con la posición de inicio y una lista vacía\n",
        "    visited = set()\n",
        "    while queue:\n",
        "        current,path = queue.pop(0)\n",
        "        if current == end:\n",
        "            path.append(current)\n",
        "            print(queue)\n",
        "            return path\n",
        "        visited.add(current)\n",
        "        directions = [(0,-1),(0,1),(-1,0),(1,0)]\n",
        "        for d in directions:\n",
        "            next_pos = (current[0] + d[0], current[1] + d[1])\n",
        "            if next_pos[0] < 0 or next_pos[0] >= len(maze) or next_pos[1] < 0 or next_pos[1] >= len(maze[0]):\n",
        "                continue\n",
        "            if maze[next_pos[0]][next_pos[1]] == \"1\":\n",
        "                continue\n",
        "            if next_pos in visited:\n",
        "                continue\n",
        "            queue.append((next_pos, path + [current]))\n",
        "    return None\n",
        "\n",
        "def solve_maze(maze):\n",
        "    start = None\n",
        "    end = None\n",
        "    for i in range(len(maze)):          # recorre el laberinto\n",
        "        for j in range(len(maze[i])):\n",
        "            if maze[i][j] == \"S\":       # detecta la posición de inicio\n",
        "                start = (i,j)\n",
        "            elif maze[i][j] == \"F\":     # detecta la posición de final\n",
        "                end = (i,j)\n",
        "    path = bfs(maze, start, end)        # llama a la función bsf para encontrar el camino más corto\n",
        "    if path is None:                    # si el path es None\n",
        "        print(\"No solution found\")      # imprime que no ha encontrado solución\n",
        "    else:                               # en caso contrario\n",
        "        for i in range(len(maze)):      # imprime la matriz con el laberinto resuelto\n",
        "            for j in range(len(maze[i])):\n",
        "                if (i,j) in path:       # si la posición (i,j) está en el path imprime \"o\"\n",
        "                    print(\"o\",end=\" \")\n",
        "                else:                   # en caso contrario\n",
        "                    print(maze[i][j],end=\" \")   # imprime lo que había inicialmente: 1 o '·'\n",
        "            print()\n",
        "\n",
        "solve_maze(maze)"
      ],
      "metadata": {
        "id": "Qtxij-Sd63Wj",
        "outputId": "8ac533a2-6a1d-429e-abfd-af749726ea26",
        "colab": {
          "base_uri": "https://localhost:8080/"
        }
      },
      "execution_count": null,
      "outputs": [
        {
          "output_type": "stream",
          "name": "stdout",
          "text": [
            "[((6, 8), [(1, 1), (1, 2), (1, 3), (1, 4), (0, 4), (0, 5), (0, 6), (1, 6), (2, 6), (2, 5), (3, 5), (3, 4), (4, 4), (4, 3), (5, 3), (6, 3), (6, 4), (6, 5), (6, 6), (5, 6), (5, 7), (5, 8)]), ((5, 9), [(1, 1), (1, 2), (1, 3), (1, 4), (0, 4), (0, 5), (0, 6), (1, 6), (2, 6), (2, 5), (3, 5), (3, 4), (4, 4), (4, 3), (5, 3), (6, 3), (6, 4), (6, 5), (5, 5), (5, 6), (5, 7), (5, 8)]), ((6, 8), [(1, 1), (1, 2), (1, 3), (1, 4), (0, 4), (0, 5), (0, 6), (1, 6), (2, 6), (2, 5), (3, 5), (3, 4), (4, 4), (4, 3), (5, 3), (6, 3), (6, 4), (6, 5), (5, 5), (5, 6), (5, 7), (5, 8)]), ((5, 9), [(1, 1), (1, 2), (1, 3), (0, 3), (0, 4), (0, 5), (0, 6), (1, 6), (2, 6), (2, 5), (3, 5), (3, 4), (4, 4), (4, 3), (5, 3), (6, 3), (6, 4), (6, 5), (6, 6), (5, 6), (5, 7), (5, 8)]), ((6, 8), [(1, 1), (1, 2), (1, 3), (0, 3), (0, 4), (0, 5), (0, 6), (1, 6), (2, 6), (2, 5), (3, 5), (3, 4), (4, 4), (4, 3), (5, 3), (6, 3), (6, 4), (6, 5), (6, 6), (5, 6), (5, 7), (5, 8)]), ((5, 9), [(1, 1), (1, 2), (1, 3), (0, 3), (0, 4), (0, 5), (0, 6), (1, 6), (2, 6), (2, 5), (3, 5), (3, 4), (4, 4), (4, 3), (5, 3), (6, 3), (6, 4), (6, 5), (5, 5), (5, 6), (5, 7), (5, 8)]), ((6, 8), [(1, 1), (1, 2), (1, 3), (0, 3), (0, 4), (0, 5), (0, 6), (1, 6), (2, 6), (2, 5), (3, 5), (3, 4), (4, 4), (4, 3), (5, 3), (6, 3), (6, 4), (6, 5), (5, 5), (5, 6), (5, 7), (5, 8)]), ((5, 9), [(1, 1), (1, 2), (0, 2), (0, 3), (0, 4), (0, 5), (0, 6), (1, 6), (2, 6), (2, 5), (3, 5), (3, 4), (4, 4), (4, 3), (5, 3), (6, 3), (6, 4), (6, 5), (6, 6), (5, 6), (5, 7), (5, 8)]), ((6, 8), [(1, 1), (1, 2), (0, 2), (0, 3), (0, 4), (0, 5), (0, 6), (1, 6), (2, 6), (2, 5), (3, 5), (3, 4), (4, 4), (4, 3), (5, 3), (6, 3), (6, 4), (6, 5), (6, 6), (5, 6), (5, 7), (5, 8)]), ((5, 9), [(1, 1), (1, 2), (0, 2), (0, 3), (0, 4), (0, 5), (0, 6), (1, 6), (2, 6), (2, 5), (3, 5), (3, 4), (4, 4), (4, 3), (5, 3), (6, 3), (6, 4), (6, 5), (5, 5), (5, 6), (5, 7), (5, 8)]), ((6, 8), [(1, 1), (1, 2), (0, 2), (0, 3), (0, 4), (0, 5), (0, 6), (1, 6), (2, 6), (2, 5), (3, 5), (3, 4), (4, 4), (4, 3), (5, 3), (6, 3), (6, 4), (6, 5), (5, 5), (5, 6), (5, 7), (5, 8)]), ((5, 9), [(1, 1), (0, 1), (0, 2), (0, 3), (0, 4), (0, 5), (0, 6), (1, 6), (2, 6), (2, 5), (3, 5), (3, 4), (4, 4), (4, 3), (5, 3), (6, 3), (6, 4), (6, 5), (6, 6), (5, 6), (5, 7), (5, 8)]), ((6, 8), [(1, 1), (0, 1), (0, 2), (0, 3), (0, 4), (0, 5), (0, 6), (1, 6), (2, 6), (2, 5), (3, 5), (3, 4), (4, 4), (4, 3), (5, 3), (6, 3), (6, 4), (6, 5), (6, 6), (5, 6), (5, 7), (5, 8)]), ((5, 9), [(1, 1), (0, 1), (0, 2), (0, 3), (0, 4), (0, 5), (0, 6), (1, 6), (2, 6), (2, 5), (3, 5), (3, 4), (4, 4), (4, 3), (5, 3), (6, 3), (6, 4), (6, 5), (5, 5), (5, 6), (5, 7), (5, 8)]), ((6, 8), [(1, 1), (0, 1), (0, 2), (0, 3), (0, 4), (0, 5), (0, 6), (1, 6), (2, 6), (2, 5), (3, 5), (3, 4), (4, 4), (4, 3), (5, 3), (6, 3), (6, 4), (6, 5), (5, 5), (5, 6), (5, 7), (5, 8)]), ((7, 9), [(1, 1), (2, 1), (2, 0), (3, 0), (4, 0), (5, 0), (6, 0), (6, 1), (7, 1), (8, 1), (9, 1), (9, 2), (9, 3), (9, 4), (9, 5), (8, 5), (8, 6), (8, 7), (9, 7), (9, 8), (9, 9), (8, 9)]), ((7, 9), [(1, 1), (2, 1), (3, 1), (3, 0), (4, 0), (5, 0), (6, 0), (6, 1), (7, 1), (8, 1), (9, 1), (9, 2), (9, 3), (9, 4), (9, 5), (8, 5), (8, 6), (8, 7), (9, 7), (9, 8), (9, 9), (8, 9)]), ((7, 9), [(1, 1), (2, 1), (3, 1), (4, 1), (4, 0), (5, 0), (6, 0), (6, 1), (7, 1), (8, 1), (9, 1), (9, 2), (9, 3), (9, 4), (9, 5), (8, 5), (8, 6), (8, 7), (9, 7), (9, 8), (9, 9), (8, 9)]), ((7, 8), [(1, 1), (1, 0), (2, 0), (3, 0), (4, 0), (5, 0), (6, 0), (6, 1), (7, 1), (8, 1), (9, 1), (9, 2), (9, 3), (9, 4), (9, 5), (8, 5), (8, 6), (8, 7), (9, 7), (9, 8), (9, 9), (8, 9), (7, 9)]), ((6, 9), [(1, 1), (1, 0), (2, 0), (3, 0), (4, 0), (5, 0), (6, 0), (6, 1), (7, 1), (8, 1), (9, 1), (9, 2), (9, 3), (9, 4), (9, 5), (8, 5), (8, 6), (8, 7), (9, 7), (9, 8), (9, 9), (8, 9), (7, 9)])]\n",
            "· · · · o o o · · · \n",
            "· o o o o 1 o · 1 · \n",
            "· · · · 1 o o 1 · · \n",
            "· · · 1 o o 1 · · 1 \n",
            "· · 1 o o 1 · 1 1 · \n",
            "· 1 · o 1 · o o o o \n",
            "· · 1 o o o o 1 · · \n",
            "1 · · 1 · 1 1 1 · · \n",
            "· · 1 1 1 · · · 1 · \n",
            "· · · · · · 1 · · · \n"
          ]
        }
      ]
    },
    {
      "cell_type": "markdown",
      "source": [
        "# Algoritmo DFS, algoritmo de búsqueda en profundidad\n",
        "https://es.wikipedia.org/wiki/B%C3%BAsqueda_en_profundidad\n",
        "\n",
        "Algoritmo de búsqueda en profundidad: DFS (DEPTH FIRST SEARCH)"
      ],
      "metadata": {
        "id": "dsncDvRGht-9"
      }
    },
    {
      "cell_type": "code",
      "source": [
        "def dfs(x, y, path):\n",
        "    if x == DIM - 1 and y == DIM - 1:\n",
        "        print(path)\n",
        "        return\n",
        "    if x > 0 and tablero[x - 1][y] == '·':\n",
        "        tablero[x - 1][y] = 'X'\n",
        "        dfs(x - 1, y, path + [(x - 1, y)])\n",
        "        tablero[x - 1][y] = '·'\n",
        "    if x < DIM - 1 and tablero[x + 1][y] == '·':\n",
        "        tablero[x + 1][y] = 'X'\n",
        "        dfs(x + 1, y, path + [(x + 1, y)])\n",
        "        tablero[x + 1][y] = '·'\n",
        "    if y > 0 and tablero[x][y - 1] == '·':\n",
        "        tablero[x][y - 1] = 'X'\n",
        "        dfs(x, y - 1, path + [(x, y - 1)])\n",
        "        tablero[x][y - 1] = '·'\n",
        "    if y < DIM - 1 and tablero[x][y + 1] == '·':\n",
        "        tablero[x][y + 1] = 'X'\n",
        "        dfs(x, y + 1, path + [(x, y + 1)])\n",
        "        tablero[x][y + 1] = '·'\n",
        "\n",
        "DIM = 5\n",
        "tablero = [['·']*DIM for _ in range(DIM)]\n",
        "\n",
        "tablero[1][2] = 'X'\n",
        "dfs(1, 2, [(1, 2)])"
      ],
      "metadata": {
        "id": "xNnZkUPmMzIO"
      },
      "execution_count": null,
      "outputs": []
    },
    {
      "cell_type": "markdown",
      "source": [
        "# BFS algoritmo de busqueda en anchura\n",
        "https://es.wikipedia.org/wiki/B%C3%BAsqueda_en_anchura\n",
        "\n",
        "Veamos la función bfs:\n",
        "\n",
        "1. La función `bfs` toma cuatro argumentos: `start_x`, `start_y`, `end_x` y `end_y`. Estos argumentos representan las coordenadas del punto de origen y del punto de destino en el tablero.\n",
        "2. La función crea una cola vacía utilizando la clase `deque` de la librería `collections`. La cola se utiliza para almacenar las posiciones que se visitarán a continuación.\n",
        "3. La función crea un conjunto vacío llamado `visited` utilizando la clase `set`. El conjunto se utiliza para almacenar las posiciones que ya se han visitado.\n",
        "4. La función crea un diccionario llamado 'parents'. El diccionario se utiliza para almacenar los padres de cada posición visitada.\n",
        "5. La función agrega la posición inicial `(start_x, start_y)` a la cola y al conjunto `visited`.\n",
        "6. La función entra en un bucle `while` que se ejecuta mientras la cola no esté vacía.\n",
        "7. En cada iteración del bucle `while`, la función saca la primera posición de la cola utilizando el método `popleft()` y la almacena en las variables `x` e `y`.\n",
        "8. Si la posición actual es igual a la posición final `(end_x, end_y)`, la función ha encontrado el **camino más corto** desde el punto de origen hasta el punto de destino. La función utiliza el diccionario `parents` para reconstruir el camino más corto y lo imprime en orden inverso utilizando la función `print()` y *slicing*.\n",
        "9. Si la posición actual no es igual a la posición final, la función genera todas las posibles posiciones vecinas utilizando una lista de desplazamientos `dx` y `dy`.\n",
        "10. Para cada posible posición vecina, la función comprueba si está dentro del tablero y si no ha sido visitada antes o si es una pared (es decir, si contiene un carácter diferente a `'·'`). Si cumple estas condiciones, la función agrega la posición vecina a la cola y al conjunto `visited` y establece su padre en el diccionario `parents`.\n",
        "11. Después de procesar todas las posibles posiciones vecinas, la función vuelve al paso 7 y saca la siguiente posición de la cola.\n",
        "12. Si no hay más posiciones en la cola y no se ha encontrado un camino desde el punto de origen hasta el punto de destino, la función termina sin imprimir nada."
      ],
      "metadata": {
        "id": "CrAqCGrHQxyU"
      }
    },
    {
      "cell_type": "code",
      "source": [
        "from collections import deque\n",
        "\n",
        "def bfs(start_x, start_y, end_x, end_y):\n",
        "    queue = deque([(start_x, start_y)])     # cola\n",
        "    visited = set([(start_x, start_y)])     # conjunto de posiciones visitadas\n",
        "    parents = {(start_x, start_y): None}    # diccionario: almacena los padres de cada posición visitada\n",
        "    while queue:                            # mientras la cola no esté vacía\n",
        "        x, y = queue.popleft()\n",
        "        if x == end_x and y == end_y:\n",
        "            path = []\n",
        "            while (x,y) != (start_x,start_y):\n",
        "                path.append((x,y))\n",
        "                x,y = parents[(x,y)]\n",
        "            path.append((start_x,start_y))\n",
        "            reverse_path = path[::-1]\n",
        "            print(reverse_path)\n",
        "            return reverse_path\n",
        "        for dx, dy in [(-1,0),(0,-1),(0,1),(1,0)]:\n",
        "            nx = x+dx\n",
        "            ny = y+dy\n",
        "            if nx < 0 or ny < 0 or nx >= DIM or ny >= DIM:\n",
        "                continue\n",
        "            if (nx,ny) in visited or tablero[nx][ny] != '·':\n",
        "                continue\n",
        "            visited.add((nx,ny))\n",
        "            parents[(nx,ny)] = (x,y)\n",
        "            queue.append((nx,ny))\n",
        "\n",
        "def print_board(tablero, reverse_path):\n",
        "    for i in range(DIM):\n",
        "        for j in range(DIM):\n",
        "            if (i,j) in reverse_path:\n",
        "                tablero[i][j] = 'A'\n",
        "    print()\n",
        "    for row in tablero:\n",
        "        print(*row)\n",
        "    print()\n",
        "\n",
        "\n",
        "if __name__ == \"__main__\":\n",
        "    DIM = 10\n",
        "    tablero = [['·']*DIM for _ in range(DIM)]\n",
        "\n",
        "    (start_x, start_y) = (1,1)\n",
        "    (end_x, end_y) = (5,9)\n",
        "\n",
        "    tablero[start_x][start_y] = 'A'\n",
        "    # ♜🂠⊞⊗⨷©⦿◉❖❑❂❁✿☒◘\n",
        "    tablero[1][5] = '◘'\n",
        "    tablero[1][8] = '◘'\n",
        "    reverse_path = bfs(start_x, start_y, end_x, end_y)\n",
        "    print_board(tablero, reverse_path)"
      ],
      "metadata": {
        "colab": {
          "base_uri": "https://localhost:8080/"
        },
        "id": "gDaxsoJwQ1Hz",
        "outputId": "87e92629-b50c-49bd-ce51-698b569704f9"
      },
      "execution_count": 14,
      "outputs": [
        {
          "output_type": "stream",
          "name": "stdout",
          "text": [
            "[(1, 1), (1, 2), (1, 3), (1, 4), (2, 4), (2, 5), (2, 6), (2, 7), (2, 8), (2, 9), (3, 9), (4, 9), (5, 9)]\n",
            "\n",
            "· · · · · · · · · ·\n",
            "· A A A A ◘ · · ◘ ·\n",
            "· · · · A A A A A A\n",
            "· · · · · · · · · A\n",
            "· · · · · · · · · A\n",
            "· · · · · · · · · A\n",
            "· · · · · · · · · ·\n",
            "· · · · · · · · · ·\n",
            "· · · · · · · · · ·\n",
            "· · · · · · · · · ·\n",
            "\n"
          ]
        }
      ]
    }
  ]
}