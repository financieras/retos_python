{
  "nbformat": 4,
  "nbformat_minor": 0,
  "metadata": {
    "colab": {
      "provenance": [],
      "authorship_tag": "ABX9TyOfBFCNzsNsSLs8zwuEoSlP",
      "include_colab_link": true
    },
    "kernelspec": {
      "name": "python3",
      "display_name": "Python 3"
    },
    "language_info": {
      "name": "python"
    }
  },
  "cells": [
    {
      "cell_type": "markdown",
      "metadata": {
        "id": "view-in-github",
        "colab_type": "text"
      },
      "source": [
        "<a href=\"https://colab.research.google.com/github/financieras/retos_python/blob/main/algoritmo_BSF_de_busqueda_en_anchura.ipynb\" target=\"_parent\"><img src=\"https://colab.research.google.com/assets/colab-badge.svg\" alt=\"Open In Colab\"/></a>"
      ]
    },
    {
      "cell_type": "markdown",
      "source": [
        "# Algoritmo de Backtraking para resolver un laberinto\n",
        "El código utiliza el algoritmo de backtracking para resolver un laberinto.\n",
        "\n",
        "1. El código busca la posición del punto de partida y del punto final en la matriz del laberinto. Luego, llama a la función backtrack para encontrar la solución al laberinto.\n",
        "\n",
        "2. La función backtrack es una función recursiva que utiliza el algoritmo de backtracking para encontrar la solución al laberinto. La función toma como argumentos:\n",
        " 1. `maze` la matriz del laberinto\n",
        " 2. `current` la posición actual del jugador\n",
        " 3. `end` la posición final del jugador\n",
        " 4. `path` una lista de posiciones que representan el camino que ha seguido el jugador hasta ahora\n",
        " 5. `visited` una lista de posiciones que representan las posiciones que ya ha visitado el jugador\n",
        "\n",
        "3. La función comienza agregando la posición actual a la lista de posiciones visitadas. Luego, comprueba si la posición actual es igual a la posición final. Si es así, agrega la posición actual a la lista de posiciones del camino y devuelve True.\n",
        "\n",
        "Si la posición actual no es igual a la posición final, la función busca las posibles direcciones en las que el jugador puede moverse (arriba, abajo, izquierda o derecha). Para cada dirección posible, comprueba si el jugador puede moverse en esa dirección (es decir, si no hay una pared en esa dirección), si el jugador ya ha visitado esa posición y si esa posición está dentro de los límites del laberinto.\n",
        "\n",
        "Si se cumple todo lo anterior, agrega la posición actual a la lista de posiciones del camino y llama recursivamente a la función backtrack con la nueva posición. Si esta llamada recursiva devuelve True, significa que se ha encontrado una solución y devuelve True. Si no se encuentra ninguna solución en ninguna de las direcciones posibles, elimina la última posición agregada a la lista de posiciones del camino y devuelve False.\n",
        "\n",
        "La función solve_maze es simplemente una envoltura para llamar a la función backtrack con los argumentos correctos y luego imprimir el resultado."
      ],
      "metadata": {
        "id": "ShtxMHD4OKU6"
      }
    },
    {
      "cell_type": "code",
      "source": [
        "maze = [['·','·','·','·','·','·','·','·','·','·'],\n",
        "        ['·','S','·','·','·','1','·','·','1','·'],\n",
        "        ['·','·','·','·','1','·','·','1','·','·'],\n",
        "        ['·','·','·','1','·','·','1','·','·','1'],\n",
        "        ['·','·','1','·','·','1','·','1','1','·'],\n",
        "        ['·','1','·','·','1','·','·','·','·','F'],\n",
        "        ['·','·','1','·','·','·','·','1','·','·'],\n",
        "        ['1','·','·','1','·','1','1','1','·','·'],\n",
        "        ['·','·','1','1','1','·','·','·','1','·'],\n",
        "        ['·','·','·','·','·','·','1','·','·','·']]\n",
        "\n",
        "def solve_maze(maze):\n",
        "    start = None\n",
        "    end = None\n",
        "    for i in range(len(maze)):\n",
        "        for j in range(len(maze[i])):\n",
        "            if maze[i][j] == \"S\":\n",
        "                start = (i,j)\n",
        "            elif maze[i][j] == \"F\":\n",
        "                end = (i,j)\n",
        "    path = []\n",
        "    visited = []\n",
        "    if backtrack(maze,start,end,path,visited):\n",
        "        for i in range(len(maze)):\n",
        "            for j in range(len(maze[i])):\n",
        "                if (i,j) in path:\n",
        "                    print(\"o\",end=\" \")\n",
        "                else:\n",
        "                    print(maze[i][j],end=\" \")\n",
        "            print()\n",
        "    else:\n",
        "        print(\"No solution found\")\n",
        "\n",
        "def backtrack(maze, current, end, path, visited):\n",
        "    if current == end:\n",
        "        path.append(current)\n",
        "        return True\n",
        "    visited.append(current)\n",
        "    directions = [(0,-1),(0,1),(-1,0),(1,0)]\n",
        "    for d in directions:\n",
        "        next_pos = (current[0] + d[0], current[1] + d[1])\n",
        "        if next_pos[0] < 0 or next_pos[0] >= len(maze) or next_pos[1] < 0 or next_pos[1] >= len(maze[0]):\n",
        "            continue\n",
        "        if maze[next_pos[0]][next_pos[1]] == \"1\":\n",
        "            continue\n",
        "        if next_pos in visited:\n",
        "            continue\n",
        "        path.append(current)\n",
        "        if backtrack(maze, next_pos, end, path, visited):\n",
        "            return True\n",
        "        path.pop()\n",
        "    return False\n",
        "\n",
        "solve_maze(maze)"
      ],
      "metadata": {
        "colab": {
          "base_uri": "https://localhost:8080/"
        },
        "id": "PAwXpFpfKKAT",
        "outputId": "ccde755a-a051-432c-cb3d-5d0849ce9c54"
      },
      "execution_count": 27,
      "outputs": [
        {
          "output_type": "stream",
          "name": "stdout",
          "text": [
            "o o o o o o o o · · \n",
            "o o · · · 1 o o 1 · \n",
            "· · · · 1 o o 1 · · \n",
            "· · · 1 o o 1 · · 1 \n",
            "· · 1 o o 1 · 1 1 · \n",
            "· 1 · o 1 · o o o o \n",
            "· · 1 o o o o 1 · · \n",
            "1 · · 1 · 1 1 1 · · \n",
            "· · 1 1 1 · · · 1 · \n",
            "· · · · · · 1 · · · \n"
          ]
        }
      ]
    },
    {
      "cell_type": "markdown",
      "source": [
        "# Algoritmo BFS\n",
        "https://es.wikipedia.org/wiki/B%C3%BAsqueda_en_anchura\n",
        "\n",
        "El algoritmo de backtracking encuentra una solución al laberinto, pero no necesariamente es la solución más corta o con el menor número de pasos.\n",
        "\n",
        "Para encontrar la solución más corta o con el menor número de pasos, se puede utilizar otro algoritmo llamado “Búsqueda en anchura” (también conocido como “BFS”, por sus siglas en inglés). Este algoritmo explora todos los nodos del laberinto en orden de distancia desde el punto de partida y encuentra la solución más corta."
      ],
      "metadata": {
        "id": "qgpX8ZM3TFeU"
      }
    },
    {
      "cell_type": "code",
      "source": [
        "from collections import deque\n",
        "\n",
        "maze = [['·','·','·','·','·','·','·','·','·','·'],\n",
        "        ['·','S','·','·','·','1','·','·','1','·'],\n",
        "        ['·','·','·','·','1','·','·','1','·','·'],\n",
        "        ['·','·','·','1','·','·','1','·','·','1'],\n",
        "        ['·','·','1','·','·','1','·','1','1','·'],\n",
        "        ['·','1','·','·','1','·','·','·','·','F'],\n",
        "        ['·','·','1','·','·','·','·','1','·','·'],\n",
        "        ['1','·','·','1','·','1','1','1','·','·'],\n",
        "        ['·','·','1','1','1','·','·','·','1','·'],\n",
        "        ['·','·','·','·','·','·','1','·','·','·']]\n",
        "\n",
        "def bfs(maze,start,end):\n",
        "    queue = deque([(start,[])])\n",
        "    visited = set()\n",
        "    while queue:\n",
        "        current,path = queue.popleft()\n",
        "        if current == end:\n",
        "            path.append(current)\n",
        "            return path\n",
        "        visited.add(current)\n",
        "        directions = [(0,-1),(0,1),(-1,0),(1,0)]\n",
        "        for d in directions:\n",
        "            next_pos = (current[0]+d[0],current[1]+d[1])\n",
        "            if next_pos[0] < 0 or next_pos[0] >= len(maze) or next_pos[1] < 0 or next_pos[1] >= len(maze[0]):\n",
        "                continue\n",
        "            if maze[next_pos[0]][next_pos[1]] == \"1\":\n",
        "                continue\n",
        "            if next_pos in visited:\n",
        "                continue\n",
        "            queue.append((next_pos,path+[current]))\n",
        "    return None\n",
        "\n",
        "def solve_maze(maze):\n",
        "    start = None\n",
        "    end = None\n",
        "    for i in range(len(maze)):\n",
        "        for j in range(len(maze[i])):\n",
        "            if maze[i][j] == \"S\":\n",
        "                start = (i,j)\n",
        "            elif maze[i][j] == \"F\":\n",
        "                end = (i,j)\n",
        "    path = bfs(maze,start,end)\n",
        "    if path is None:\n",
        "        print(\"No solution found\")\n",
        "    else:\n",
        "        for i in range(len(maze)):\n",
        "            for j in range(len(maze[i])):\n",
        "                if (i,j) in path:\n",
        "                    print(\"o \",end=\"\")\n",
        "                else:\n",
        "                    print(maze[i][j],end=\" \")\n",
        "            print()\n",
        "\n",
        "solve_maze(maze)"
      ],
      "metadata": {
        "colab": {
          "base_uri": "https://localhost:8080/"
        },
        "id": "XW-yLGytQvz9",
        "outputId": "d1beff5f-fa8f-476e-f039-149e105042d2"
      },
      "execution_count": 24,
      "outputs": [
        {
          "output_type": "stream",
          "name": "stdout",
          "text": [
            "· · · · o o o · · · \n",
            "· o o o o 1 o · 1 · \n",
            "· · · · 1 o o 1 · · \n",
            "· · · 1 o o 1 · · 1 \n",
            "· · 1 o o 1 · 1 1 · \n",
            "· 1 · o 1 · o o o o \n",
            "· · 1 o o o o 1 · · \n",
            "1 · · 1 · 1 1 1 · · \n",
            "· · 1 1 1 · · · 1 · \n",
            "· · · · · · 1 · · · \n"
          ]
        }
      ]
    }
  ]
}