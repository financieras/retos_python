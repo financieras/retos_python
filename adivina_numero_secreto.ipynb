{
  "nbformat": 4,
  "nbformat_minor": 0,
  "metadata": {
    "colab": {
      "provenance": [],
      "authorship_tag": "ABX9TyPfvPoq7TMAqG3Er1qlZ6T5",
      "include_colab_link": true
    },
    "kernelspec": {
      "name": "python3",
      "display_name": "Python 3"
    },
    "language_info": {
      "name": "python"
    }
  },
  "cells": [
    {
      "cell_type": "markdown",
      "metadata": {
        "id": "view-in-github",
        "colab_type": "text"
      },
      "source": [
        "<a href=\"https://colab.research.google.com/github/financieras/retos_python/blob/main/adivina_numero_secreto.ipynb\" target=\"_parent\"><img src=\"https://colab.research.google.com/assets/colab-badge.svg\" alt=\"Open In Colab\"/></a>"
      ]
    },
    {
      "cell_type": "markdown",
      "source": [
        "# Juego para adivinar el número secreto con POO"
      ],
      "metadata": {
        "id": "mg7otNxPKUl4"
      }
    },
    {
      "cell_type": "code",
      "execution_count": 13,
      "metadata": {
        "colab": {
          "base_uri": "https://localhost:8080/"
        },
        "id": "efzVEJ5SKT_1",
        "outputId": "ea14266b-f725-4a86-b53a-baf2df3bce28"
      },
      "outputs": [
        {
          "output_type": "stream",
          "name": "stdout",
          "text": [
            "Es menor\n",
            "Número de tiradas realizadas: 1\n"
          ]
        }
      ],
      "source": [
        "import random\n",
        "random.seed()\n",
        "\n",
        "class JuegoAdivina:\n",
        "    def __init__(self, nombre_jugador):\n",
        "        self.nombre_jugador = nombre_jugador\n",
        "        self.numero_secreto = random.randint(1, 100)\n",
        "        self.intentos = 0\n",
        "\n",
        "    def hace_tirada(self):\n",
        "        self.intentos += 1\n",
        "\n",
        "    def propone_numero(self, num):\n",
        "        self.hace_tirada()\n",
        "        if num == self.numero_secreto:\n",
        "            print(\"Felicidades has adivinado el número\", num)\n",
        "        elif self.numero_secreto > num:\n",
        "            print(\"Es MAYOR\")\n",
        "        elif self.numero_secreto < num:\n",
        "            print(\"Es menor\")\n",
        "        print(f\"Número de intentos realizados: {self.intentos}\")\n",
        "\n",
        "\n",
        "pepe = JuegoAdivina(\"José\")\n",
        "pepe.propone_numero(50)"
      ]
    },
    {
      "cell_type": "code",
      "source": [
        "juego = JuegoAdivinanzas()\n",
        "juego.jugar()"
      ],
      "metadata": {
        "colab": {
          "base_uri": "https://localhost:8080/"
        },
        "id": "Zl9y4sl8PWZ_",
        "outputId": "23a83e98-e726-43c0-9404-d8011c31b7df"
      },
      "execution_count": 15,
      "outputs": [
        {
          "output_type": "stream",
          "name": "stdout",
          "text": [
            "¡Bienvenido al juego de adivinanzas!\n",
            "Adivina el número (entre 1 y 100): 50\n",
            "Demasiado bajo. Intenta nuevamente.\n",
            "Adivina el número (entre 1 y 100): 75\n",
            "Demasiado bajo. Intenta nuevamente.\n",
            "Adivina el número (entre 1 y 100): 85\n",
            "Demasiado bajo. Intenta nuevamente.\n",
            "Adivina el número (entre 1 y 100): 90\n",
            "Demasiado bajo. Intenta nuevamente.\n",
            "Adivina el número (entre 1 y 100): 95\n",
            "Demasiado bajo. Intenta nuevamente.\n",
            "Adivina el número (entre 1 y 100): 97\n",
            "¡Felicidades! Adivinaste el número en 6 intentos.\n"
          ]
        }
      ]
    },
    {
      "cell_type": "code",
      "source": [
        "import random\n",
        "random.seed()\n",
        "\n",
        "class JuegoAdivina:\n",
        "    def __init__(self, nombre):\n",
        "        self.nombre = nombre\n",
        "        self.numero_secreto = random.randint(1, 100)\n",
        "        self.intentos = 0\n",
        "        self.jugar()\n",
        "\n",
        "    def jugar(self):\n",
        "        print(f\"¡Bienvenido {self.nombre} al juego de Adivina el número secreto!\")\n",
        "        while True:\n",
        "            intento = int(input(\"Adivina el número (entre 1 y 100): \"))\n",
        "            self.intentos += 1\n",
        "\n",
        "            if intento < self.numero_secreto:\n",
        "                print(\"El número secreto es MAYOR. Intenta nuevamente.\")\n",
        "            elif intento > self.numero_secreto:\n",
        "                print(\"El número secreto es menor. Intenta nuevamente.\")\n",
        "            else:\n",
        "                print(f\"¡Felicidades {self.nombre}! Adivinaste el número en {self.intentos} intentos.\")\n",
        "                break\n",
        "\n",
        "pepe = JuegoAdivina(\"José\")"
      ],
      "metadata": {
        "colab": {
          "base_uri": "https://localhost:8080/"
        },
        "id": "9f08OJXFOkSH",
        "outputId": "79a36670-2656-495b-9051-c364f4aa2343"
      },
      "execution_count": 23,
      "outputs": [
        {
          "output_type": "stream",
          "name": "stdout",
          "text": [
            "¡Bienvenido José al juego de Adivina el número secreto!\n",
            "Adivina el número (entre 1 y 100): 50\n",
            "El número secreto es menor. Intenta nuevamente.\n",
            "Adivina el número (entre 1 y 100): 25\n",
            "El número secreto es menor. Intenta nuevamente.\n",
            "Adivina el número (entre 1 y 100): 12\n",
            "¡Felicidades José! Adivinaste el número en 3 intentos.\n"
          ]
        }
      ]
    },
    {
      "cell_type": "code",
      "source": [
        "import random\n",
        "\n",
        "class Jugador:\n",
        "    def __init__(self, nombre):\n",
        "        self.nombre = nombre\n",
        "        self.numero_secreto = random.randint(1, 10)\n",
        "        self.intentos = 0\n",
        "\n",
        "    def jugar(self):\n",
        "        while True:\n",
        "            self.intentos += 1\n",
        "            numero = int(input(f\"{self.nombre}, adivina el número: \"))\n",
        "            if numero == self.numero_secreto:\n",
        "                print(f\"¡{self.nombre} ha adivinado el número en {self.intentos} intentos!\")\n",
        "                break\n",
        "            elif numero < self.numero_secreto:\n",
        "                print(\"El número es mayor.\")\n",
        "            else:\n",
        "                print(\"El número es menor.\")\n",
        "\n",
        "class JuegoAdivina:\n",
        "    def __init__(self, *jugadores):\n",
        "        self.jugadores = [Jugador(nombre) for nombre in jugadores]\n",
        "\n",
        "    def jugar(self):\n",
        "        for jugador in self.jugadores:\n",
        "            jugador.jugar()\n",
        "\n",
        "        self.jugadores.sort(key=lambda x: x.intentos)\n",
        "        print(\"\\nRanking de jugadores:\")\n",
        "        for i, jugador in enumerate(self.jugadores, start=1):\n",
        "            print(f\"{i}. {jugador.nombre} - {jugador.intentos} intentos\")\n",
        "        print(f\"\\n¡Felicidades {self.jugadores[0].nombre}, eres el campeón!\")\n",
        "\n",
        "juego = JuegoAdivina(\"José\", \"María\", \"Carlos\")\n",
        "juego.jugar()"
      ],
      "metadata": {
        "colab": {
          "base_uri": "https://localhost:8080/"
        },
        "id": "VpgJAAWRZB_M",
        "outputId": "a16996e7-c73b-4253-dacd-e0741a459488"
      },
      "execution_count": 25,
      "outputs": [
        {
          "output_type": "stream",
          "name": "stdout",
          "text": [
            "José, adivina el número: 5\n",
            "El número es mayor.\n",
            "José, adivina el número: 7\n",
            "El número es mayor.\n",
            "José, adivina el número: 9\n",
            "El número es mayor.\n",
            "José, adivina el número: 10\n",
            "¡José ha adivinado el número en 4 intentos!\n",
            "María, adivina el número: 5\n",
            "El número es mayor.\n",
            "María, adivina el número: 8\n",
            "El número es mayor.\n",
            "María, adivina el número: 10\n",
            "El número es menor.\n",
            "María, adivina el número: 9\n",
            "¡María ha adivinado el número en 4 intentos!\n",
            "Carlos, adivina el número: 5\n",
            "El número es menor.\n",
            "Carlos, adivina el número: 2\n",
            "El número es mayor.\n",
            "Carlos, adivina el número: 3\n",
            "El número es mayor.\n",
            "Carlos, adivina el número: 4\n",
            "¡Carlos ha adivinado el número en 4 intentos!\n",
            "\n",
            "Ranking de jugadores:\n",
            "1. José - 4 intentos\n",
            "2. María - 4 intentos\n",
            "3. Carlos - 4 intentos\n",
            "\n",
            "¡Felicidades José, eres el campeón!\n"
          ]
        }
      ]
    },
    {
      "cell_type": "code",
      "source": [
        "import random\n",
        "random.seed()\n",
        "\n",
        "class Jugador:\n",
        "    def __init__(self, nombre):\n",
        "        self.nombre = nombre\n",
        "        self.numero_secreto = random.randint(1, 10)\n",
        "        self.intentos = 0\n",
        "\n",
        "    def jugar(self):\n",
        "        while True:\n",
        "            self.intentos += 1\n",
        "            numero = int(input(f\"{self.nombre}, adivina el número: \"))\n",
        "            if numero == self.numero_secreto:\n",
        "                print(f\"¡{self.nombre} ha adivinado el número en {self.intentos} intentos!\")\n",
        "                break\n",
        "            elif numero < self.numero_secreto:\n",
        "                print(\"El número es mayor.\")\n",
        "            else:\n",
        "                print(\"El número es menor.\")\n",
        "\n",
        "class JuegoAdivina:\n",
        "    def __init__(self, *jugadores):\n",
        "        self.jugadores = [Jugador(nombre) for nombre in jugadores]\n",
        "\n",
        "    def jugar(self):\n",
        "        for jugador in self.jugadores:\n",
        "            jugador.jugar()\n",
        "\n",
        "        self.jugadores.sort(key=lambda x: x.intentos)\n",
        "        print(\"\\nRanking de jugadores:\")\n",
        "        for i, jugador in enumerate(self.jugadores, start=1):\n",
        "            print(f\"{i}. {jugador.nombre} - {jugador.intentos} intentos\")\n",
        "\n",
        "        min_intentos = self.jugadores[0].intentos\n",
        "        campeones = [jugador.nombre for jugador in self.jugadores if jugador.intentos == min_intentos]\n",
        "\n",
        "        if len(campeones) > 1:\n",
        "            print(f\"\\n¡Felicidades a {' y '.join(campeones)}, han empatado con el mínimo número de intentos!\")\n",
        "        else:\n",
        "            print(f\"\\n¡Felicidades {campeones[0]}, eres el campeón!\")\n",
        "\n",
        "juego = JuegoAdivina(\"José\", \"María\", \"Carlos\", \"Ana\")\n",
        "juego.jugar()"
      ],
      "metadata": {
        "colab": {
          "base_uri": "https://localhost:8080/"
        },
        "id": "qbBHir8nblPN",
        "outputId": "e9b3d865-4ba9-4238-c57a-955c6d7fd43d"
      },
      "execution_count": 29,
      "outputs": [
        {
          "output_type": "stream",
          "name": "stdout",
          "text": [
            "José, adivina el número: 5\n",
            "El número es mayor.\n",
            "José, adivina el número: 7\n",
            "¡José ha adivinado el número en 2 intentos!\n",
            "María, adivina el número: 5\n",
            "El número es menor.\n",
            "María, adivina el número: 3\n",
            "El número es mayor.\n",
            "María, adivina el número: 4\n",
            "¡María ha adivinado el número en 3 intentos!\n",
            "Carlos, adivina el número: 5\n",
            "El número es menor.\n",
            "Carlos, adivina el número: 3\n",
            "¡Carlos ha adivinado el número en 2 intentos!\n",
            "Ana, adivina el número: 5\n",
            "El número es mayor.\n",
            "Ana, adivina el número: 6\n",
            "¡Ana ha adivinado el número en 2 intentos!\n",
            "\n",
            "Ranking de jugadores:\n",
            "1. José - 2 intentos\n",
            "2. Carlos - 2 intentos\n",
            "3. Ana - 2 intentos\n",
            "4. María - 3 intentos\n",
            "\n",
            "¡Felicidades a José y Carlos y Ana, han empatado con el mínimo número de intentos!\n"
          ]
        }
      ]
    }
  ]
}