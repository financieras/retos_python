{
  "nbformat": 4,
  "nbformat_minor": 0,
  "metadata": {
    "colab": {
      "provenance": [],
      "authorship_tag": "ABX9TyPtO2TxMiTdW8ZCpQPZACmJ",
      "include_colab_link": true
    },
    "kernelspec": {
      "name": "python3",
      "display_name": "Python 3"
    },
    "language_info": {
      "name": "python"
    }
  },
  "cells": [
    {
      "cell_type": "markdown",
      "metadata": {
        "id": "view-in-github",
        "colab_type": "text"
      },
      "source": [
        "<a href=\"https://colab.research.google.com/github/financieras/retos_python/blob/main/sudoku.ipynb\" target=\"_parent\"><img src=\"https://colab.research.google.com/assets/colab-badge.svg\" alt=\"Open In Colab\"/></a>"
      ]
    },
    {
      "cell_type": "markdown",
      "source": [
        "# Sudoku"
      ],
      "metadata": {
        "id": "jnqnTHxhFpZG"
      }
    },
    {
      "cell_type": "code",
      "execution_count": 1,
      "metadata": {
        "colab": {
          "base_uri": "https://localhost:8080/"
        },
        "id": "NRF05kIUFoe6",
        "outputId": "9829efff-15f3-46f5-e78f-93c5ba8c29ce"
      },
      "outputs": [
        {
          "output_type": "stream",
          "name": "stdout",
          "text": [
            "Selecciona la dificultad (easy, medium, hard): easy\n",
            "Sudoku generado:\n",
            "[1, 2, 3, 4, 5, 0, 7, 0, 9]\n",
            "[0, 5, 6, 0, 0, 9, 1, 0, 3]\n",
            "[0, 0, 9, 1, 0, 0, 4, 5, 6]\n",
            "[2, 1, 0, 3, 6, 5, 0, 0, 0]\n",
            "[0, 0, 0, 0, 0, 7, 2, 0, 4]\n",
            "[0, 0, 7, 2, 0, 4, 0, 6, 5]\n",
            "[0, 0, 1, 6, 4, 0, 0, 0, 8]\n",
            "[6, 4, 2, 0, 0, 0, 0, 0, 0]\n",
            "[0, 0, 0, 5, 3, 1, 6, 0, 0]\n"
          ]
        }
      ],
      "source": [
        "import random\n",
        "\n",
        "def generate_sudoku(difficulty):\n",
        "    board = [[0] * 9 for _ in range(9)]\n",
        "    solve_sudoku(board)  # Genera un Sudoku resuelto\n",
        "\n",
        "    # Elimina casillas iniciales según la dificultad\n",
        "    if difficulty == 'easy':\n",
        "        num_to_remove = 40\n",
        "    elif difficulty == 'medium':\n",
        "        num_to_remove = 50\n",
        "    elif difficulty == 'hard':\n",
        "        num_to_remove = 60\n",
        "\n",
        "    while num_to_remove > 0:\n",
        "        row = random.randint(0, 8)\n",
        "        col = random.randint(0, 8)\n",
        "\n",
        "        if board[row][col] != 0:\n",
        "            board[row][col] = 0\n",
        "            num_to_remove -= 1\n",
        "\n",
        "    return board\n",
        "\n",
        "def solve_sudoku(board):\n",
        "    empty_cell = find_empty_cell(board)\n",
        "    if not empty_cell:\n",
        "        return True\n",
        "\n",
        "    row, col = empty_cell\n",
        "    for num in range(1, 10):\n",
        "        if is_valid_move(board, row, col, num):\n",
        "            board[row][col] = num\n",
        "\n",
        "            if solve_sudoku(board):\n",
        "                return True\n",
        "\n",
        "            board[row][col] = 0\n",
        "\n",
        "    return False\n",
        "\n",
        "def find_empty_cell(board):\n",
        "    for row in range(9):\n",
        "        for col in range(9):\n",
        "            if board[row][col] == 0:\n",
        "                return (row, col)\n",
        "    return None\n",
        "\n",
        "def is_valid_move(board, row, col, num):\n",
        "    # Verifica si el número ya está en la fila\n",
        "    for i in range(9):\n",
        "        if board[row][i] == num:\n",
        "            return False\n",
        "\n",
        "    # Verifica si el número ya está en la columna\n",
        "    for i in range(9):\n",
        "        if board[i][col] == num:\n",
        "            return False\n",
        "\n",
        "    # Verifica si el número ya está en el cuadro 3x3\n",
        "    start_row = (row // 3) * 3\n",
        "    start_col = (col // 3) * 3\n",
        "    for i in range(3):\n",
        "        for j in range(3):\n",
        "            if board[start_row + i][start_col + j] == num:\n",
        "                return False\n",
        "\n",
        "    return True\n",
        "\n",
        "def print_sudoku(board):\n",
        "    for row in board:\n",
        "        print(row)\n",
        "\n",
        "def main():\n",
        "    difficulty = input(\"Selecciona la dificultad (easy, medium, hard): \")\n",
        "    sudoku = generate_sudoku(difficulty)\n",
        "    print(\"Sudoku generado:\")\n",
        "    print_sudoku(sudoku)\n",
        "\n",
        "if __name__ == '__main__':\n",
        "    main()"
      ]
    }
  ]
}