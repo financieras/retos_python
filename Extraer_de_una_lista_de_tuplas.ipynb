{
  "nbformat": 4,
  "nbformat_minor": 0,
  "metadata": {
    "colab": {
      "provenance": [],
      "authorship_tag": "ABX9TyPx8YHdqnkXvVirbSlF1dNh",
      "include_colab_link": true
    },
    "kernelspec": {
      "name": "python3",
      "display_name": "Python 3"
    },
    "language_info": {
      "name": "python"
    }
  },
  "cells": [
    {
      "cell_type": "markdown",
      "metadata": {
        "id": "view-in-github",
        "colab_type": "text"
      },
      "source": [
        "<a href=\"https://colab.research.google.com/github/financieras/retos_python/blob/main/Extraer_de_una_lista_de_tuplas.ipynb\" target=\"_parent\"><img src=\"https://colab.research.google.com/assets/colab-badge.svg\" alt=\"Open In Colab\"/></a>"
      ]
    },
    {
      "cell_type": "markdown",
      "source": [
        "# Reto: Extraer el elemento n-ésimo de una lista de tuplas\n",
        "Dada una lista de tuplas deseamos extraer únicamente el elemento n-ésimo de todas ellas. Por ejemplo, deseamos extraer el segundo elemento de esta lista de tuplas:  \n",
        "`[(1,'a',10), (2,'b',20), (3,'c',30)]`\n",
        "\n",
        "El resultado obtenido será:  \n",
        "`['a', 'b', 'c']`\n",
        "\n",
        "https://stackoverflow.com/questions/3308102/how-to-extract-the-n-th-elements-from-a-list-of-tuples"
      ],
      "metadata": {
        "id": "tgSdUfBnXhNM"
      }
    },
    {
      "cell_type": "markdown",
      "source": [
        "### Solución. Método 1"
      ],
      "metadata": {
        "id": "BKtugkbZZFdK"
      }
    },
    {
      "cell_type": "code",
      "source": [
        "elementos = [(1,'a',10), (2,'b',20), (3,'c',30)]\n",
        "list(zip(*elementos))[1]"
      ],
      "metadata": {
        "colab": {
          "base_uri": "https://localhost:8080/"
        },
        "id": "epAQllaOXfyQ",
        "outputId": "8e4288b7-cc93-45fb-9f17-8312e3019df0"
      },
      "execution_count": null,
      "outputs": [
        {
          "output_type": "execute_result",
          "data": {
            "text/plain": [
              "('a', 'b', 'c')"
            ]
          },
          "metadata": {},
          "execution_count": 42
        }
      ]
    },
    {
      "cell_type": "markdown",
      "source": [
        "### Solución. Método 2"
      ],
      "metadata": {
        "id": "ogjPChTYZJ7_"
      }
    },
    {
      "cell_type": "code",
      "source": [
        "[x[1] for x in elementos]"
      ],
      "metadata": {
        "colab": {
          "base_uri": "https://localhost:8080/"
        },
        "id": "lB3LNr6uY2D0",
        "outputId": "d8b387b1-42c3-4dbc-a2d3-b98e01767888"
      },
      "execution_count": null,
      "outputs": [
        {
          "output_type": "execute_result",
          "data": {
            "text/plain": [
              "['a', 'b', 'c']"
            ]
          },
          "metadata": {},
          "execution_count": 43
        }
      ]
    }
  ]
}