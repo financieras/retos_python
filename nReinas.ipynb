{
  "nbformat": 4,
  "nbformat_minor": 0,
  "metadata": {
    "colab": {
      "provenance": [],
      "authorship_tag": "ABX9TyM8873U1VSvvGT+lUcgp+nI",
      "include_colab_link": true
    },
    "kernelspec": {
      "name": "python3",
      "display_name": "Python 3"
    },
    "language_info": {
      "name": "python"
    }
  },
  "cells": [
    {
      "cell_type": "markdown",
      "metadata": {
        "id": "view-in-github",
        "colab_type": "text"
      },
      "source": [
        "<a href=\"https://colab.research.google.com/github/financieras/retos_python/blob/main/nReinas.ipynb\" target=\"_parent\"><img src=\"https://colab.research.google.com/assets/colab-badge.svg\" alt=\"Open In Colab\"/></a>"
      ]
    },
    {
      "cell_type": "markdown",
      "source": [
        "# Algoritmo Backtraking para las n-Reinas"
      ],
      "metadata": {
        "id": "YnHULi5NDGvi"
      }
    },
    {
      "cell_type": "code",
      "execution_count": 13,
      "metadata": {
        "colab": {
          "base_uri": "https://localhost:8080/"
        },
        "id": "5MaS35uk_3fV",
        "outputId": "b68a66d5-409d-4181-a0d3-67a6638f4c01"
      },
      "outputs": [
        {
          "output_type": "stream",
          "name": "stdout",
          "text": [
            "· Q · · \n",
            "· · · Q \n",
            "Q · · · \n",
            "· · Q · \n",
            "\n",
            "· · Q · \n",
            "Q · · · \n",
            "· · · Q \n",
            "· Q · · \n",
            "\n"
          ]
        }
      ],
      "source": [
        "def is_valid(board, row, col):\n",
        "    for i in range(row):\n",
        "        if board[i] == col or \\\n",
        "           board[i] - i == col - row or \\\n",
        "           board[i] + i == col + row:\n",
        "            return False\n",
        "    return True\n",
        "\n",
        "def backtrack(board, row, n):\n",
        "    if row == n:\n",
        "        return [board]\n",
        "    res = []\n",
        "    for col in range(n):\n",
        "        if is_valid(board, row, col):\n",
        "            board[row] = col\n",
        "            res += backtrack(board[:], row + 1, n)\n",
        "    return res\n",
        "\n",
        "def solve_n_queens(n):\n",
        "    board = [-1] * n\n",
        "    return [[\"· \" * x + \"Q \" + \"· \" * (n-x-1) for x in sol] for sol in backtrack(board, 0, n)]  # retorna un array de tableros\n",
        "\n",
        "for solution in solve_n_queens(4):\n",
        "    for row in solution:\n",
        "        print(row)\n",
        "    print()"
      ]
    }
  ]
}