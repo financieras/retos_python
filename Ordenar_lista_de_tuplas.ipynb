{
  "nbformat": 4,
  "nbformat_minor": 0,
  "metadata": {
    "colab": {
      "provenance": [],
      "authorship_tag": "ABX9TyMezUpPtiTVPhtrLnbi0rgb",
      "include_colab_link": true
    },
    "kernelspec": {
      "name": "python3",
      "display_name": "Python 3"
    },
    "language_info": {
      "name": "python"
    }
  },
  "cells": [
    {
      "cell_type": "markdown",
      "metadata": {
        "id": "view-in-github",
        "colab_type": "text"
      },
      "source": [
        "<a href=\"https://colab.research.google.com/github/financieras/retos_python/blob/main/Ordenar_lista_de_tuplas.ipynb\" target=\"_parent\"><img src=\"https://colab.research.google.com/assets/colab-badge.svg\" alt=\"Open In Colab\"/></a>"
      ]
    },
    {
      "cell_type": "markdown",
      "source": [
        "# Reto: Ordenar una lista de tuplas por el elemento n-ésimo\n",
        "Dada una lista de tuplas ordenar de forma creciente por el elemento n-ésimo.\n",
        "\n",
        "Ejemplo, deseamos ordenar por el primer elemento esta lista de tuplas:  \n",
        "`[(4,'a',30), (2,'d',40), (1,'b',10), (3,'c',20)]`\n",
        "\n",
        "El resultado debería ser:  \n",
        "`[(1, 'b', 10), (2, 'd', 40), (3, 'c', 20), (4, 'a', 30)]`"
      ],
      "metadata": {
        "id": "VSBTC55sRh5e"
      }
    },
    {
      "cell_type": "markdown",
      "source": [
        "## Solución. Método 1\n",
        "Si ordenamos por el **primer elemento** podemos utilizar simplemente el método `sorted()` ya que al no indicar qué elemento se utilizará para la ordenación lo hará por el primer elemento."
      ],
      "metadata": {
        "id": "GBmTT156NcTI"
      }
    },
    {
      "cell_type": "code",
      "source": [
        "lista_tuplas = [(4,'a',30), (2,'d',40), (1,'b',10), (3,'c',20)]\n",
        "ordenada = sorted(lista_tuplas)   # sorted realmente no modifica el orden\n",
        "ordenada"
      ],
      "metadata": {
        "colab": {
          "base_uri": "https://localhost:8080/"
        },
        "id": "AgjeCU-rTwPx",
        "outputId": "115a3a1a-3251-4c88-cd21-25713846eba8"
      },
      "execution_count": 5,
      "outputs": [
        {
          "output_type": "execute_result",
          "data": {
            "text/plain": [
              "[(1, 'b', 10), (2, 'd', 40), (3, 'c', 20), (4, 'a', 30)]"
            ]
          },
          "metadata": {},
          "execution_count": 5
        }
      ]
    },
    {
      "cell_type": "markdown",
      "source": [
        "## Solución. Método2\n",
        "* Utilizamos `lambda` para definir una función anónima que toma cada tupla `t` y devuelve su segundo elemento t[1].\n",
        "* Luego, utilizamos `key=lambda t: t[1]` para indicar que queremos ordenar la lista utilizando este criterio."
      ],
      "metadata": {
        "id": "-9O29eoOO4QM"
      }
    },
    {
      "cell_type": "code",
      "source": [
        "lista_tuplas = [(4,'a',30), (2,'d',40), (1,'b',10), (3,'c',20)]\n",
        "\n",
        "lista_ordenada = sorted(lista_tuplas, key=lambda t: t[1])\n",
        "print(lista_ordenada)"
      ],
      "metadata": {
        "id": "e5F251N-OVP9",
        "outputId": "b7eb1b2a-35be-4c35-ebb4-c12391ee4ed0",
        "colab": {
          "base_uri": "https://localhost:8080/"
        }
      },
      "execution_count": 6,
      "outputs": [
        {
          "output_type": "stream",
          "name": "stdout",
          "text": [
            "[(4, 'a', 30), (1, 'b', 10), (3, 'c', 20), (2, 'd', 40)]\n"
          ]
        }
      ]
    },
    {
      "cell_type": "markdown",
      "source": [
        "## Solución. Método 3\n",
        "* Ordenar una lista de tuplas por el segundo elemento\n",
        "* Dada una lista de tuplas ordenar de forma creciente por el segundo elemento.\n",
        "\n",
        "Ejemplo, deseamos ordenar por el segundo elemento esta lista de tuplas:  \n",
        "`[(4,'a',30), (2,'d',40), (1,'b',10), (3,'c',20)]`\n",
        "\n",
        "El resultado debería ser:  \n",
        "`[(4, 'a', 30), (1, 'b', 10), (3, 'c', 20), (2, 'd', 40)]`"
      ],
      "metadata": {
        "id": "n3JPbXNNVcqZ"
      }
    },
    {
      "cell_type": "code",
      "source": [
        "lista_tuplas = [(4,'a',30), (2,'d',40), (1,'b',10), (3,'c',20)]\n",
        "lista_tuplas.sort(key=lambda t: t[1])   # sort si modifica el orden\n",
        "lista_tuplas"
      ],
      "metadata": {
        "colab": {
          "base_uri": "https://localhost:8080/"
        },
        "id": "owh5-jccVrp_",
        "outputId": "016702f6-2c5e-42ce-9540-4aba5c98ee72"
      },
      "execution_count": 7,
      "outputs": [
        {
          "output_type": "execute_result",
          "data": {
            "text/plain": [
              "[(4, 'a', 30), (1, 'b', 10), (3, 'c', 20), (2, 'd', 40)]"
            ]
          },
          "metadata": {},
          "execution_count": 7
        }
      ]
    }
  ]
}