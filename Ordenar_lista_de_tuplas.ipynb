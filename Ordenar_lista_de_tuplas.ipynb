{
  "nbformat": 4,
  "nbformat_minor": 0,
  "metadata": {
    "colab": {
      "provenance": [],
      "authorship_tag": "ABX9TyOugTijq/owQWVd+oqDhHkl",
      "include_colab_link": true
    },
    "kernelspec": {
      "name": "python3",
      "display_name": "Python 3"
    },
    "language_info": {
      "name": "python"
    }
  },
  "cells": [
    {
      "cell_type": "markdown",
      "metadata": {
        "id": "view-in-github",
        "colab_type": "text"
      },
      "source": [
        "<a href=\"https://colab.research.google.com/github/financieras/retos_python/blob/main/Ordenar_lista_de_tuplas.ipynb\" target=\"_parent\"><img src=\"https://colab.research.google.com/assets/colab-badge.svg\" alt=\"Open In Colab\"/></a>"
      ]
    },
    {
      "cell_type": "markdown",
      "source": [
        "# Reto: Ordenar una lista de tuplas por el primer elemento\n",
        "Dada una lista de tuplas ordenar de forma creciente por el primer elemento.\n",
        "\n",
        "https://sparkbyexamples.com/python/sort-list-of-tuples-in-python/?expand_article=1\n",
        "\n",
        "Ejemplo, deseamos ordenar por el segundo elemento esta lista de tuplas:  \n",
        "`[(4,'a',30), (2,'d',40), (1,'b',10), (3,'c',20)]`\n",
        "\n",
        "El resultado debería ser:  \n",
        "`[(1, 'b', 10), (2, 'd', 40), (3, 'c', 20), (4, 'a', 30)]`"
      ],
      "metadata": {
        "id": "VSBTC55sRh5e"
      }
    },
    {
      "cell_type": "code",
      "source": [
        "origen = [(4,'a',30), (2,'d',40), (1,'b',10), (3,'c',20)]\n",
        "ordenada = sorted(origen)   # sorted realmente no modifica el orden de origen\n",
        "ordenada"
      ],
      "metadata": {
        "colab": {
          "base_uri": "https://localhost:8080/"
        },
        "id": "AgjeCU-rTwPx",
        "outputId": "ce30141c-e1ae-4004-972d-12bf72470a82"
      },
      "execution_count": null,
      "outputs": [
        {
          "output_type": "execute_result",
          "data": {
            "text/plain": [
              "[(1, 'b', 10), (2, 'd', 40), (3, 'c', 20), (4, 'a', 30)]"
            ]
          },
          "metadata": {},
          "execution_count": 39
        }
      ]
    },
    {
      "cell_type": "markdown",
      "source": [
        "## Ejercicio 2: Ordenar una lista de tuplas por el segundo elemento\n",
        "Dada una lista de tuplas ordenar de forma creciente por el segundo elemento.\n",
        "\n",
        "Ejemplo, deseamos ordenar por el segundo elemento esta lista de tuplas:  \n",
        "`[(4,'a',30), (2,'d',40), (1,'b',10), (3,'c',20)]`\n",
        "\n",
        "El resultado debería ser:  \n",
        "`[(4, 'a', 30), (1, 'b', 10), (3, 'c', 20), (2, 'd', 40)]`"
      ],
      "metadata": {
        "id": "n3JPbXNNVcqZ"
      }
    },
    {
      "cell_type": "code",
      "source": [
        "origen = [(4,'a',30), (2,'d',40), (1,'b',10), (3,'c',20)]\n",
        "origen.sort(key=lambda x: x[1])   # sort si modifica el orden de origen\n",
        "origen"
      ],
      "metadata": {
        "colab": {
          "base_uri": "https://localhost:8080/"
        },
        "id": "owh5-jccVrp_",
        "outputId": "532db865-3a46-4900-fd9b-541a18f484a9"
      },
      "execution_count": null,
      "outputs": [
        {
          "output_type": "execute_result",
          "data": {
            "text/plain": [
              "[(4, 'a', 30), (1, 'b', 10), (3, 'c', 20), (2, 'd', 40)]"
            ]
          },
          "metadata": {},
          "execution_count": 41
        }
      ]
    }
  ]
}