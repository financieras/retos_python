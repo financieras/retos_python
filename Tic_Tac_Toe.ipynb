{
  "nbformat": 4,
  "nbformat_minor": 0,
  "metadata": {
    "colab": {
      "provenance": [],
      "authorship_tag": "ABX9TyMFDXSKUQTLBqs1mokTczx/",
      "include_colab_link": true
    },
    "kernelspec": {
      "name": "python3",
      "display_name": "Python 3"
    },
    "language_info": {
      "name": "python"
    }
  },
  "cells": [
    {
      "cell_type": "markdown",
      "metadata": {
        "id": "view-in-github",
        "colab_type": "text"
      },
      "source": [
        "<a href=\"https://colab.research.google.com/github/financieras/retos_python/blob/main/Tic_Tac_Toe.ipynb\" target=\"_parent\"><img src=\"https://colab.research.google.com/assets/colab-badge.svg\" alt=\"Open In Colab\"/></a>"
      ]
    },
    {
      "cell_type": "markdown",
      "source": [
        "# Tic Tac Toe"
      ],
      "metadata": {
        "id": "YQ2ry_WGHh8p"
      }
    },
    {
      "cell_type": "markdown",
      "source": [
        "## Método 1"
      ],
      "metadata": {
        "id": "TwKnnSdaHSwJ"
      }
    },
    {
      "cell_type": "code",
      "source": [
        "# Crear el tablero\n",
        "tablero = [[' ' for _ in range(3)] for _ in range(3)]\n",
        "\n",
        "# Función para imprimir el tablero\n",
        "def imprimir_tablero():\n",
        "    for fila in tablero:\n",
        "        print('|'.join(fila))\n",
        "        print('-' * 5)\n",
        "\n",
        "# Función para verificar si hay un ganador\n",
        "def verificar_ganador(jugador):\n",
        "    # Verificar filas\n",
        "    for fila in tablero:\n",
        "        if fila.count(jugador) == 3:\n",
        "            return True\n",
        "\n",
        "    # Verificar columnas\n",
        "    for col in range(3):\n",
        "        columna = [tablero[fila][col] for fila in range(3)]\n",
        "        if columna.count(jugador) == 3:\n",
        "            return True\n",
        "\n",
        "    # Verificar diagonales\n",
        "    diagonal1 = [tablero[i][i] for i in range(3)]\n",
        "    diagonal2 = [tablero[i][2-i] for i in range(3)]\n",
        "    if diagonal1.count(jugador) == 3 or diagonal2.count(jugador) == 3:\n",
        "        return True\n",
        "\n",
        "    return False\n",
        "\n",
        "# Juego principal\n",
        "jugador_actual = 'X'\n",
        "while True:\n",
        "    imprimir_tablero()\n",
        "    fila = int(input(f\"Turno del jugador {jugador_actual}. Elige una fila (0-2): \"))\n",
        "    columna = int(input(f\"Turno del jugador {jugador_actual}. Elige una columna (0-2): \"))\n",
        "\n",
        "    # Verificar si la casilla está ocupada\n",
        "    if tablero[fila][columna] != ' ':\n",
        "        print(\"La casilla está ocupada. Elige otra casilla.\")\n",
        "        continue\n",
        "\n",
        "    # Colocar ficha en la casilla\n",
        "    tablero[fila][columna] = jugador_actual\n",
        "\n",
        "    # Verificar si hay un ganador\n",
        "    if verificar_ganador(jugador_actual):\n",
        "        imprimir_tablero()\n",
        "        print(f\"¡El jugador {jugador_actual} ha ganado!\")\n",
        "        break\n",
        "\n",
        "    # Verificar si hay empate\n",
        "    if all(tablero[fila][columna] != ' ' for fila in range(3) for columna in range(3)):\n",
        "        imprimir_tablero()\n",
        "        print(\"¡Empate!\")\n",
        "        break\n",
        "\n",
        "    # Cambiar de jugador\n",
        "    jugador_actual = 'O' if jugador_actual == 'X' else 'X'\n"
      ],
      "metadata": {
        "id": "zVitk3hDAidA"
      },
      "execution_count": null,
      "outputs": []
    },
    {
      "cell_type": "markdown",
      "source": [
        "## Método 2\n",
        "* Juego de cero jugadores"
      ],
      "metadata": {
        "id": "GO5X_i-eBpX0"
      }
    },
    {
      "cell_type": "code",
      "source": [
        "import random\n",
        "\n",
        "class TicTacToe:\n",
        "    def __init__(self):\n",
        "        self.board = []\n",
        "        self.create_board()\n",
        "\n",
        "    def create_board(self):\n",
        "        self.board = [['·']*3 for _ in range(3)]\n",
        "\n",
        "    def is_board_filled(self):\n",
        "        for row in self.board:\n",
        "            if '·' in row:\n",
        "                return False\n",
        "        return True\n",
        "\n",
        "    def is_player_win(self, player):\n",
        "        win_conditions = [\n",
        "            [self.board[0][0], self.board[0][1], self.board[0][2]],\n",
        "            [self.board[1][0], self.board[1][1], self.board[1][2]],\n",
        "            [self.board[2][0], self.board[2][1], self.board[2][2]],\n",
        "            [self.board[0][0], self.board[1][0], self.board[2][0]],\n",
        "            [self.board[0][1], self.board[1][1], self.board[2][1]],\n",
        "            [self.board[0][2], self.board[1][2], self.board[2][2]],\n",
        "            [self.board[0][0], self.board[1][1], self.board[2][2]],\n",
        "            [self.board[0][2], self.board[1][1], self.board[2][0]]\n",
        "        ]\n",
        "        return [player, player, player] in win_conditions\n",
        "\n",
        "    def show_board(self):\n",
        "        for row in self.board:\n",
        "            print(' '.join(row))\n",
        "        print()\n",
        "\n",
        "    def auto_play(self):\n",
        "        players = ['X', 'O']\n",
        "        while True:\n",
        "            for player in players:\n",
        "                self.show_board()\n",
        "                print(f\"Turno del jugador {player}\")\n",
        "                while True:\n",
        "                    row = random.randint(0, 2)\n",
        "                    col = random.randint(0, 2)\n",
        "                    if self.board[row][col] == '·':\n",
        "                        self.board[row][col] = player\n",
        "                        break\n",
        "                if self.is_player_win(player):\n",
        "                    self.show_board()\n",
        "                    print(f\"¡El jugador {player} gana el juego!\")\n",
        "                    return\n",
        "                elif self.is_board_filled():\n",
        "                    self.show_board()\n",
        "                    print(\"¡El juego termina en empate!\")\n",
        "                    return\n",
        "\n",
        "tic_tac_toe = TicTacToe()\n",
        "tic_tac_toe.auto_play()"
      ],
      "metadata": {
        "id": "bAE_iZBnBxut"
      },
      "execution_count": null,
      "outputs": []
    },
    {
      "cell_type": "markdown",
      "source": [
        "## Método 3\n",
        " 'X' juega de manera aleatoria y 'O' juega utilizando el algoritmo Minimax para elegir el mejor movimiento posible. El juego continúa hasta que uno de los jugadores gana o hasta que se llenan todas las casillas del tablero (empate)."
      ],
      "metadata": {
        "id": "cIE3d4laGs96"
      }
    },
    {
      "cell_type": "code",
      "source": [
        "import random\n",
        "import copy\n",
        "\n",
        "# Definimos el tablero\n",
        "board = ['·' for _ in range(9)]\n",
        "\n",
        "# Función para dibujar el tablero\n",
        "def print_board(board):\n",
        "    for i in range(3):\n",
        "        print(' '.join(board[i*3:(i+1)*3]))\n",
        "    print()\n",
        "\n",
        "# Función para hacer un movimiento\n",
        "def make_move(board, player, move):\n",
        "    new_board = copy.deepcopy(board)\n",
        "    new_board[move] = player\n",
        "    return new_board\n",
        "\n",
        "# Función para obtener los movimientos posibles\n",
        "def get_possible_moves(board):\n",
        "    return [i for i, x in enumerate(board) if x == '·']\n",
        "\n",
        "# Función para determinar si un jugador ha ganado\n",
        "def has_won(board, player):\n",
        "    winning_combinations = [(0,1,2), (3,4,5), (6,7,8), (0,3,6), (1,4,7), (2,5,8), (0,4,8), (2,4,6)]\n",
        "    for combination in winning_combinations:\n",
        "        if board[combination[0]] == board[combination[1]] == board[combination[2]] == player:\n",
        "            return True\n",
        "    return False\n",
        "\n",
        "# Función para el jugador 'X' que mueve de forma aleatoria\n",
        "def random_player(board):\n",
        "    return random.choice(get_possible_moves(board))\n",
        "\n",
        "# Función para el jugador 'O' que utiliza el algoritmo Minimax\n",
        "def minimax_player(board):\n",
        "    best_score = float('-inf')\n",
        "    best_move = None\n",
        "    for move in get_possible_moves(board):\n",
        "        new_board = make_move(board, 'O', move)\n",
        "        score = minimax(new_board, 'X')\n",
        "        if score > best_score:\n",
        "            best_score = score\n",
        "            best_move = move\n",
        "    return best_move\n",
        "\n",
        "# Función Minimax\n",
        "def minimax(board, player):\n",
        "    if has_won(board, 'O'):\n",
        "        return 1\n",
        "    elif has_won(board, 'X'):\n",
        "        return -1\n",
        "    elif not get_possible_moves(board):\n",
        "        return 0\n",
        "\n",
        "    if player == 'O':\n",
        "        best_score = float('-inf')\n",
        "        for move in get_possible_moves(board):\n",
        "            new_board = make_move(board, 'O', move)\n",
        "            score = minimax(new_board, 'X')\n",
        "            best_score = max(score, best_score)\n",
        "        return best_score\n",
        "    else:\n",
        "        best_score = float('inf')\n",
        "        for move in get_possible_moves(board):\n",
        "            new_board = make_move(board, 'X', move)\n",
        "            score = minimax(new_board, 'O')\n",
        "            best_score = min(score, best_score)\n",
        "        return best_score\n",
        "\n",
        "# Juego principal\n",
        "def play_game():\n",
        "    current_board = board\n",
        "    while True:\n",
        "        #print_board(current_board)\n",
        "        current_board = make_move(current_board, 'X', random_player(current_board))\n",
        "        if has_won(current_board, 'X'):\n",
        "            print_board(current_board)\n",
        "            print('X ha ganado!')\n",
        "            break\n",
        "        elif not get_possible_moves(current_board):\n",
        "            print_board(current_board)\n",
        "            print('Empate!')\n",
        "            break\n",
        "        print_board(current_board)\n",
        "        current_board = make_move(current_board, 'O', minimax_player(current_board))\n",
        "        if has_won(current_board, 'O'):\n",
        "            print_board(current_board)\n",
        "            print('O ha ganado!')\n",
        "            break\n",
        "        elif not get_possible_moves(current_board):\n",
        "            print_board(current_board)\n",
        "            print('Empate!')\n",
        "            break\n",
        "        print_board(current_board)\n",
        "\n",
        "play_game()\n"
      ],
      "metadata": {
        "id": "hZs-e7hOGw47",
        "outputId": "469f176c-1a63-4aa9-fd00-922c08b760c1",
        "colab": {
          "base_uri": "https://localhost:8080/"
        }
      },
      "execution_count": 13,
      "outputs": [
        {
          "output_type": "stream",
          "name": "stdout",
          "text": [
            "X · ·\n",
            "· · ·\n",
            "· · ·\n",
            "\n",
            "X · ·\n",
            "· O ·\n",
            "· · ·\n",
            "\n",
            "X · ·\n",
            "· O ·\n",
            "· · X\n",
            "\n",
            "X O ·\n",
            "· O ·\n",
            "· · X\n",
            "\n",
            "X O ·\n",
            "X O ·\n",
            "· · X\n",
            "\n",
            "X O ·\n",
            "X O ·\n",
            "O · X\n",
            "\n",
            "X O ·\n",
            "X O X\n",
            "O · X\n",
            "\n",
            "X O O\n",
            "X O X\n",
            "O · X\n",
            "\n",
            "O ha ganado!\n"
          ]
        }
      ]
    },
    {
      "cell_type": "markdown",
      "source": [
        "# my Tic Tac Toe"
      ],
      "metadata": {
        "id": "4GsRbgkvJdHF"
      }
    },
    {
      "cell_type": "code",
      "source": [
        "import random\n",
        "\n",
        "def create_board():\n",
        "    return [['·']*3 for _ in range(3)]\n",
        "\n",
        "def print_board(board):\n",
        "    for row in board:\n",
        "        print(' '.join(row))\n",
        "    print()\n",
        "\n",
        "def is_board_filled(board):\n",
        "    for row in board:\n",
        "        if '·' in row:\n",
        "            return False\n",
        "    return True\n",
        "\n",
        "def is_player_win(player):\n",
        "    win_conditions = [\n",
        "        [board[0][0], board[0][1], board[0][2]],\n",
        "        [board[1][0], board[1][1], board[1][2]],\n",
        "        [board[2][0], board[2][1], board[2][2]],\n",
        "        [board[0][0], board[1][0], board[2][0]],\n",
        "        [board[0][1], board[1][1], board[2][1]],\n",
        "        [board[0][2], board[1][2], board[2][2]],\n",
        "        [board[0][0], board[1][1], board[2][2]],\n",
        "        [board[0][2], board[1][1], board[2][0]]\n",
        "    ]\n",
        "    return [player, payer, player] in win_conditions\n",
        "\n",
        "def auto_play(board):\n",
        "    players = ['X', 'O']\n",
        "    while True:\n",
        "        for play in players:\n",
        "            print_board(board)\n",
        "        break\n",
        "\n",
        "\n",
        "\n",
        "if __name__ == \"__main__\":\n",
        "    board = create_board()\n",
        "    auto_play(board)"
      ],
      "metadata": {
        "id": "qaVrJRgdJjWN"
      },
      "execution_count": null,
      "outputs": []
    },
    {
      "cell_type": "markdown",
      "source": [
        "## Pruebas con funciones"
      ],
      "metadata": {
        "id": "b8tu9pzuG-Zo"
      }
    },
    {
      "cell_type": "markdown",
      "source": [
        "### Idea alternativa para la función `is_board_filled`"
      ],
      "metadata": {
        "id": "iTnPIthDG4m2"
      }
    },
    {
      "cell_type": "code",
      "source": [
        "\n",
        "board = [['·']*3 for _ in range(3)]\n",
        "print(any([True if 'X' in row else False for row in board]))    # Output: False. No hay ninguna X en el tablero\n",
        "board[2][2] = 'X'\n",
        "# [\"Even\" if i%2==0 else \"Odd\" for i in range(10)]\n",
        "any([True if 'X' in row else False for row in board])           # Output: True. Existe al menos una X en el tablero"
      ],
      "metadata": {
        "colab": {
          "base_uri": "https://localhost:8080/"
        },
        "id": "NpJu-IfGEDJ7",
        "outputId": "a587b9e6-8c87-4d24-f254-6fdf81694758"
      },
      "execution_count": null,
      "outputs": [
        {
          "output_type": "stream",
          "name": "stdout",
          "text": [
            "False\n"
          ]
        },
        {
          "output_type": "execute_result",
          "data": {
            "text/plain": [
              "True"
            ]
          },
          "metadata": {},
          "execution_count": 16
        }
      ]
    }
  ]
}