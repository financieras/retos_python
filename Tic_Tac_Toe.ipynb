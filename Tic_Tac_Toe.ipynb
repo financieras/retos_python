{
  "nbformat": 4,
  "nbformat_minor": 0,
  "metadata": {
    "colab": {
      "provenance": [],
      "authorship_tag": "ABX9TyP0/0VCgHNiXiR1XzytxB+/",
      "include_colab_link": true
    },
    "kernelspec": {
      "name": "python3",
      "display_name": "Python 3"
    },
    "language_info": {
      "name": "python"
    }
  },
  "cells": [
    {
      "cell_type": "markdown",
      "metadata": {
        "id": "view-in-github",
        "colab_type": "text"
      },
      "source": [
        "<a href=\"https://colab.research.google.com/github/financieras/retos_python/blob/main/Tic_Tac_Toe.ipynb\" target=\"_parent\"><img src=\"https://colab.research.google.com/assets/colab-badge.svg\" alt=\"Open In Colab\"/></a>"
      ]
    },
    {
      "cell_type": "markdown",
      "source": [
        "# Tic Tac Toe"
      ],
      "metadata": {
        "id": "YQ2ry_WGHh8p"
      }
    },
    {
      "cell_type": "markdown",
      "source": [
        "## Método 1"
      ],
      "metadata": {
        "id": "TwKnnSdaHSwJ"
      }
    },
    {
      "cell_type": "code",
      "source": [
        "# Crear el tablero\n",
        "tablero = [[' ' for _ in range(3)] for _ in range(3)]\n",
        "\n",
        "# Función para imprimir el tablero\n",
        "def imprimir_tablero():\n",
        "    for fila in tablero:\n",
        "        print('|'.join(fila))\n",
        "        print('-' * 5)\n",
        "\n",
        "# Función para verificar si hay un ganador\n",
        "def verificar_ganador(jugador):\n",
        "    # Verificar filas\n",
        "    for fila in tablero:\n",
        "        if fila.count(jugador) == 3:\n",
        "            return True\n",
        "\n",
        "    # Verificar columnas\n",
        "    for col in range(3):\n",
        "        columna = [tablero[fila][col] for fila in range(3)]\n",
        "        if columna.count(jugador) == 3:\n",
        "            return True\n",
        "\n",
        "    # Verificar diagonales\n",
        "    diagonal1 = [tablero[i][i] for i in range(3)]\n",
        "    diagonal2 = [tablero[i][2-i] for i in range(3)]\n",
        "    if diagonal1.count(jugador) == 3 or diagonal2.count(jugador) == 3:\n",
        "        return True\n",
        "\n",
        "    return False\n",
        "\n",
        "# Juego principal\n",
        "jugador_actual = 'X'\n",
        "while True:\n",
        "    imprimir_tablero()\n",
        "    fila = int(input(f\"Turno del jugador {jugador_actual}. Elige una fila (0-2): \"))\n",
        "    columna = int(input(f\"Turno del jugador {jugador_actual}. Elige una columna (0-2): \"))\n",
        "\n",
        "    # Verificar si la casilla está ocupada\n",
        "    if tablero[fila][columna] != ' ':\n",
        "        print(\"La casilla está ocupada. Elige otra casilla.\")\n",
        "        continue\n",
        "\n",
        "    # Colocar ficha en la casilla\n",
        "    tablero[fila][columna] = jugador_actual\n",
        "\n",
        "    # Verificar si hay un ganador\n",
        "    if verificar_ganador(jugador_actual):\n",
        "        imprimir_tablero()\n",
        "        print(f\"¡El jugador {jugador_actual} ha ganado!\")\n",
        "        break\n",
        "\n",
        "    # Verificar si hay empate\n",
        "    if all(tablero[fila][columna] != ' ' for fila in range(3) for columna in range(3)):\n",
        "        imprimir_tablero()\n",
        "        print(\"¡Empate!\")\n",
        "        break\n",
        "\n",
        "    # Cambiar de jugador\n",
        "    jugador_actual = 'O' if jugador_actual == 'X' else 'X'\n"
      ],
      "metadata": {
        "colab": {
          "base_uri": "https://localhost:8080/"
        },
        "id": "zVitk3hDAidA",
        "outputId": "e34cbeca-93e5-4266-d70a-440e91cfce75"
      },
      "execution_count": 2,
      "outputs": [
        {
          "output_type": "stream",
          "name": "stdout",
          "text": [
            " | | \n",
            "-----\n",
            " | | \n",
            "-----\n",
            " | | \n",
            "-----\n",
            "Turno del jugador X. Elige una fila (0-2): 0\n",
            "Turno del jugador X. Elige una columna (0-2): 0\n",
            "X| | \n",
            "-----\n",
            " | | \n",
            "-----\n",
            " | | \n",
            "-----\n",
            "Turno del jugador O. Elige una fila (0-2): 1\n",
            "Turno del jugador O. Elige una columna (0-2): 1\n",
            "X| | \n",
            "-----\n",
            " |O| \n",
            "-----\n",
            " | | \n",
            "-----\n",
            "Turno del jugador X. Elige una fila (0-2): 2\n",
            "Turno del jugador X. Elige una columna (0-2): 0\n",
            "X| | \n",
            "-----\n",
            " |O| \n",
            "-----\n",
            "X| | \n",
            "-----\n",
            "Turno del jugador O. Elige una fila (0-2): 2\n",
            "Turno del jugador O. Elige una columna (0-2): 1\n",
            "X| | \n",
            "-----\n",
            " |O| \n",
            "-----\n",
            "X|O| \n",
            "-----\n",
            "Turno del jugador X. Elige una fila (0-2): 0\n",
            "Turno del jugador X. Elige una columna (0-2): 1\n",
            "X|X| \n",
            "-----\n",
            " |O| \n",
            "-----\n",
            "X|O| \n",
            "-----\n",
            "Turno del jugador O. Elige una fila (0-2): 1\n",
            "Turno del jugador O. Elige una columna (0-2): 2\n",
            "X|X| \n",
            "-----\n",
            " |O|O\n",
            "-----\n",
            "X|O| \n",
            "-----\n",
            "Turno del jugador X. Elige una fila (0-2): 0\n",
            "Turno del jugador X. Elige una columna (0-2): 2\n",
            "X|X|X\n",
            "-----\n",
            " |O|O\n",
            "-----\n",
            "X|O| \n",
            "-----\n",
            "¡El jugador X ha ganado!\n"
          ]
        }
      ]
    },
    {
      "cell_type": "markdown",
      "source": [
        "## Método 2\n",
        "* Juego de cero jugadores"
      ],
      "metadata": {
        "id": "GO5X_i-eBpX0"
      }
    },
    {
      "cell_type": "code",
      "source": [
        "import random\n",
        "\n",
        "class TicTacToe:\n",
        "    def __init__(self):\n",
        "        self.board = []\n",
        "        self.create_board()\n",
        "\n",
        "    def create_board(self):\n",
        "        self.board = [['·']*3 for _ in range(3)]\n",
        "\n",
        "    def is_board_filled(self):\n",
        "        for row in self.board:\n",
        "            if '·' in row:\n",
        "                return False\n",
        "        return True\n",
        "\n",
        "    def is_player_win(self, player):\n",
        "        win_conditions = [\n",
        "            [self.board[0][0], self.board[0][1], self.board[0][2]],\n",
        "            [self.board[1][0], self.board[1][1], self.board[1][2]],\n",
        "            [self.board[2][0], self.board[2][1], self.board[2][2]],\n",
        "            [self.board[0][0], self.board[1][0], self.board[2][0]],\n",
        "            [self.board[0][1], self.board[1][1], self.board[2][1]],\n",
        "            [self.board[0][2], self.board[1][2], self.board[2][2]],\n",
        "            [self.board[0][0], self.board[1][1], self.board[2][2]],\n",
        "            [self.board[0][2], self.board[1][1], self.board[2][0]]\n",
        "        ]\n",
        "        return [player, player, player] in win_conditions\n",
        "\n",
        "    def show_board(self):\n",
        "        for row in self.board:\n",
        "            print(' '.join(row))\n",
        "        print()\n",
        "\n",
        "    def auto_play(self):\n",
        "        players = ['X', 'O']\n",
        "        while True:\n",
        "            for player in players:\n",
        "                self.show_board()\n",
        "                print(f\"Turno del jugador {player}\")\n",
        "                while True:\n",
        "                    row = random.randint(0, 2)\n",
        "                    col = random.randint(0, 2)\n",
        "                    if self.board[row][col] == '·':\n",
        "                        self.board[row][col] = player\n",
        "                        break\n",
        "                if self.is_player_win(player):\n",
        "                    self.show_board()\n",
        "                    print(f\"¡El jugador {player} gana el juego!\")\n",
        "                    return\n",
        "                elif self.is_board_filled():\n",
        "                    self.show_board()\n",
        "                    print(\"¡El juego termina en empate!\")\n",
        "                    return\n",
        "\n",
        "tic_tac_toe = TicTacToe()\n",
        "tic_tac_toe.auto_play()"
      ],
      "metadata": {
        "colab": {
          "base_uri": "https://localhost:8080/"
        },
        "id": "bAE_iZBnBxut",
        "outputId": "078b067c-50a4-4edc-8b03-e01b7798c687"
      },
      "execution_count": 7,
      "outputs": [
        {
          "output_type": "stream",
          "name": "stdout",
          "text": [
            "· · ·\n",
            "· · ·\n",
            "· · ·\n",
            "\n",
            "Turno del jugador X\n",
            "· · ·\n",
            "· · X\n",
            "· · ·\n",
            "\n",
            "Turno del jugador O\n",
            "· · ·\n",
            "· · X\n",
            "O · ·\n",
            "\n",
            "Turno del jugador X\n",
            "· · ·\n",
            "X · X\n",
            "O · ·\n",
            "\n",
            "Turno del jugador O\n",
            "· · O\n",
            "X · X\n",
            "O · ·\n",
            "\n",
            "Turno del jugador X\n",
            "· · O\n",
            "X X X\n",
            "O · ·\n",
            "\n",
            "¡El jugador X gana el juego!\n"
          ]
        }
      ]
    },
    {
      "cell_type": "markdown",
      "source": [
        "## Pruebas con funciones"
      ],
      "metadata": {
        "id": "b8tu9pzuG-Zo"
      }
    },
    {
      "cell_type": "markdown",
      "source": [
        "### Idea alternativa para la función `is_board_filled`"
      ],
      "metadata": {
        "id": "iTnPIthDG4m2"
      }
    },
    {
      "cell_type": "code",
      "source": [
        "\n",
        "board = [['·']*3 for _ in range(3)]\n",
        "print(any([True if 'X' in row else False for row in board]))    # Output: False. No hay ninguna X en el tablero\n",
        "board[2][2] = 'X'\n",
        "# [\"Even\" if i%2==0 else \"Odd\" for i in range(10)]\n",
        "any([True if 'X' in row else False for row in board])           # Output: True. Existe al menos una X en el tablero"
      ],
      "metadata": {
        "colab": {
          "base_uri": "https://localhost:8080/"
        },
        "id": "NpJu-IfGEDJ7",
        "outputId": "a587b9e6-8c87-4d24-f254-6fdf81694758"
      },
      "execution_count": 16,
      "outputs": [
        {
          "output_type": "stream",
          "name": "stdout",
          "text": [
            "False\n"
          ]
        },
        {
          "output_type": "execute_result",
          "data": {
            "text/plain": [
              "True"
            ]
          },
          "metadata": {},
          "execution_count": 16
        }
      ]
    }
  ]
}