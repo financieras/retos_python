{
  "nbformat": 4,
  "nbformat_minor": 0,
  "metadata": {
    "colab": {
      "provenance": [],
      "authorship_tag": "ABX9TyNu2K4yMLII7q7HKB767E2K",
      "include_colab_link": true
    },
    "kernelspec": {
      "name": "python3",
      "display_name": "Python 3"
    },
    "language_info": {
      "name": "python"
    }
  },
  "cells": [
    {
      "cell_type": "markdown",
      "metadata": {
        "id": "view-in-github",
        "colab_type": "text"
      },
      "source": [
        "<a href=\"https://colab.research.google.com/github/financieras/retos_python/blob/main/Sublistas_ordenadas.ipynb\" target=\"_parent\"><img src=\"https://colab.research.google.com/assets/colab-badge.svg\" alt=\"Open In Colab\"/></a>"
      ]
    },
    {
      "cell_type": "markdown",
      "source": [
        "# Reto: Sublistas ordenadas\n",
        "*Nota: Antes de resolver este reto veamos algúnos ejercicios que nos ayudarán a afrontar la resolución del reto.*"
      ],
      "metadata": {
        "id": "E5C7OY3zZcpB"
      }
    },
    {
      "cell_type": "markdown",
      "source": [
        "## Ejercicio 1: Ordenar una lista de tuplas por el primer elemento\n",
        "Dada una lista de tuplas ordenar de forma creciente por el primer elemento.\n",
        "\n",
        "https://sparkbyexamples.com/python/sort-list-of-tuples-in-python/?expand_article=1\n",
        "\n",
        "Ejemplo, deseamos ordenar por el segundo elemento esta lista de tuplas:  \n",
        "`[(4,'a',30), (2,'d',40), (1,'b',10), (3,'c',20)]`\n",
        "\n",
        "El resultado debería ser:  \n",
        "`[(1, 'b', 10), (2, 'd', 40), (3, 'c', 20), (4, 'a', 30)]`"
      ],
      "metadata": {
        "id": "VSBTC55sRh5e"
      }
    },
    {
      "cell_type": "code",
      "source": [
        "origen = [(4,'a',30), (2,'d',40), (1,'b',10), (3,'c',20)]\n",
        "ordenada = sorted(origen)   # sorted realmente no modifica el orden de origen\n",
        "ordenada"
      ],
      "metadata": {
        "colab": {
          "base_uri": "https://localhost:8080/"
        },
        "id": "AgjeCU-rTwPx",
        "outputId": "ce30141c-e1ae-4004-972d-12bf72470a82"
      },
      "execution_count": 39,
      "outputs": [
        {
          "output_type": "execute_result",
          "data": {
            "text/plain": [
              "[(1, 'b', 10), (2, 'd', 40), (3, 'c', 20), (4, 'a', 30)]"
            ]
          },
          "metadata": {},
          "execution_count": 39
        }
      ]
    },
    {
      "cell_type": "markdown",
      "source": [
        "## Ejercicio 2: Ordenar una lista de tuplas por el segundo elemento\n",
        "Dada una lista de tuplas ordenar de forma creciente por el segundo elemento.\n",
        "\n",
        "Ejemplo, deseamos ordenar por el segundo elemento esta lista de tuplas:  \n",
        "`[(4,'a',30), (2,'d',40), (1,'b',10), (3,'c',20)]`\n",
        "\n",
        "El resultado debería ser:  \n",
        "`[(4, 'a', 30), (1, 'b', 10), (3, 'c', 20), (2, 'd', 40)]`"
      ],
      "metadata": {
        "id": "n3JPbXNNVcqZ"
      }
    },
    {
      "cell_type": "code",
      "source": [
        "origen = [(4,'a',30), (2,'d',40), (1,'b',10), (3,'c',20)]\n",
        "origen.sort(key=lambda x: x[1])   # sort si modifica el orden de origen\n",
        "origen"
      ],
      "metadata": {
        "colab": {
          "base_uri": "https://localhost:8080/"
        },
        "id": "owh5-jccVrp_",
        "outputId": "532db865-3a46-4900-fd9b-541a18f484a9"
      },
      "execution_count": 41,
      "outputs": [
        {
          "output_type": "execute_result",
          "data": {
            "text/plain": [
              "[(4, 'a', 30), (1, 'b', 10), (3, 'c', 20), (2, 'd', 40)]"
            ]
          },
          "metadata": {},
          "execution_count": 41
        }
      ]
    },
    {
      "cell_type": "markdown",
      "source": [
        "## Ejercicio 3: Extraer el elemento n-ésimo de una lista de tuplas\n",
        "Dada una lista de tuplas deseamos extraer únicamente el elemento n-ésimo de todas ellas. Por ejemplo, deseamos extraer el segundo elemento de esta lista de tuplas:  \n",
        "`[(1,'a',10), (2,'b',20), (3,'c',30)]`\n",
        "\n",
        "El resultado obtenido será:  \n",
        "`['a', 'b', 'c']`\n",
        "\n",
        "https://stackoverflow.com/questions/3308102/how-to-extract-the-n-th-elements-from-a-list-of-tuples"
      ],
      "metadata": {
        "id": "tgSdUfBnXhNM"
      }
    },
    {
      "cell_type": "markdown",
      "source": [
        "### Solución. Método 1"
      ],
      "metadata": {
        "id": "BKtugkbZZFdK"
      }
    },
    {
      "cell_type": "code",
      "source": [
        "elementos = [(1,'a',10), (2,'b',20), (3,'c',30)]\n",
        "list(zip(*elementos))[1]"
      ],
      "metadata": {
        "colab": {
          "base_uri": "https://localhost:8080/"
        },
        "id": "epAQllaOXfyQ",
        "outputId": "8e4288b7-cc93-45fb-9f17-8312e3019df0"
      },
      "execution_count": 42,
      "outputs": [
        {
          "output_type": "execute_result",
          "data": {
            "text/plain": [
              "('a', 'b', 'c')"
            ]
          },
          "metadata": {},
          "execution_count": 42
        }
      ]
    },
    {
      "cell_type": "markdown",
      "source": [
        "### Solución. Método 2"
      ],
      "metadata": {
        "id": "ogjPChTYZJ7_"
      }
    },
    {
      "cell_type": "code",
      "source": [
        "[x[1] for x in elementos]"
      ],
      "metadata": {
        "colab": {
          "base_uri": "https://localhost:8080/"
        },
        "id": "lB3LNr6uY2D0",
        "outputId": "d8b387b1-42c3-4dbc-a2d3-b98e01767888"
      },
      "execution_count": 43,
      "outputs": [
        {
          "output_type": "execute_result",
          "data": {
            "text/plain": [
              "['a', 'b', 'c']"
            ]
          },
          "metadata": {},
          "execution_count": 43
        }
      ]
    },
    {
      "cell_type": "markdown",
      "source": [
        "## Reto: Sublistas ordenadas\n",
        "Escribe un programa que tome una lista de sublistas como entrada y devuelva una nueva lista que contenga las sublistas ordenadas de forma ascendente según la suma de sus elementos.\n",
        "\n",
        "## Caso de uso\n",
        "Partimos de esta lista de sublistas:  \n",
        "```[[1, 2, 3], [4, 5], [6, 7, 8, 9], [10]]```\n",
        "\n",
        "La lista original contiene cuatro sublistas.\n",
        "* la sublista `[10]` tiene una suma de elementos de 10\n",
        "* la sublista `[4, 5]` tiene una suma de elementos de 9\n",
        "* la sublista `[1, 2, 3]` tiene una suma de elementos de 6\n",
        "* la sublista `[6, 7, 8, 9]` tiene una suma de elementos de 30  \n",
        "\n",
        "El programa devuelve una nueva lista con las sublistas ordenadas de forma ascendente según la suma de sus elementos.\n",
        "\n",
        "El resultado será:\n",
        "\n",
        "`[[1, 2, 3], [4, 5], [10], [6, 7, 8, 9]]`"
      ],
      "metadata": {
        "id": "VXpHOCMvG6kl"
      }
    },
    {
      "cell_type": "markdown",
      "source": [
        "### Solución. Método 1"
      ],
      "metadata": {
        "id": "dkO-cuqscChP"
      }
    },
    {
      "cell_type": "code",
      "source": [
        "def ordenar_sublistas(entrada):\n",
        "    lista_tuplas = []\n",
        "    for lista in entrada:\n",
        "        lista_tuplas.append((sum(lista), lista))\n",
        "    lista_tuplas_ordenada = sorted(lista_tuplas)   # sorted realmente no modifica el orden de lista_tuplas\n",
        "    return list(zip(*lista_tuplas_ordenada))[1]\n",
        "\n",
        "lista = [[1, 2, 3], [4, 5], [6, 7, 8, 9], [10]]\n",
        "resultado = ordenar_sublistas(lista)\n",
        "print(resultado)"
      ],
      "metadata": {
        "colab": {
          "base_uri": "https://localhost:8080/"
        },
        "id": "kcnkTWVUBjvD",
        "outputId": "9223aa86-fa35-4083-d095-a88b4d171095"
      },
      "execution_count": 47,
      "outputs": [
        {
          "output_type": "stream",
          "name": "stdout",
          "text": [
            "([1, 2, 3], [4, 5], [10], [6, 7, 8, 9])\n"
          ]
        }
      ]
    },
    {
      "cell_type": "markdown",
      "source": [
        "### Solución. Método 2"
      ],
      "metadata": {
        "id": "aomztsxKcMLI"
      }
    },
    {
      "cell_type": "code",
      "source": [
        "origen = [[1, 2, 3], [4, 5], [6, 7, 8, 9], [10]]\n",
        "print(origen)\n",
        "\n",
        "# Creamos una lista de tuplas con la suma y los elementos de origen\n",
        "lista_tuplas =[(sum(elemento), elemento) for elemento in lista]\n",
        "print(lista_tuplas)\n",
        "\n",
        "# Ordenamos la lista de tuplas por el primer elemento de la tupla\n",
        "lista_tuplas_ordenada = sorted(lista_tuplas)\n",
        "print(lista_tuplas_ordenada)\n",
        "\n",
        "# Devolvemos una lista con las listas de origen ordenadas por su suma\n",
        "[y for _,y in lista_tuplas_ordenada]"
      ],
      "metadata": {
        "colab": {
          "base_uri": "https://localhost:8080/"
        },
        "id": "22x5Y7AnJ9YR",
        "outputId": "29a9779e-f2b9-4b66-eb33-067677ae3038"
      },
      "execution_count": 46,
      "outputs": [
        {
          "output_type": "stream",
          "name": "stdout",
          "text": [
            "[[1, 2, 3], [4, 5], [6, 7, 8, 9], [10]]\n",
            "[(6, [1, 2, 3]), (9, [4, 5]), (30, [6, 7, 8, 9]), (10, [10])]\n",
            "[(6, [1, 2, 3]), (9, [4, 5]), (10, [10]), (30, [6, 7, 8, 9])]\n"
          ]
        },
        {
          "output_type": "execute_result",
          "data": {
            "text/plain": [
              "[[1, 2, 3], [4, 5], [10], [6, 7, 8, 9]]"
            ]
          },
          "metadata": {},
          "execution_count": 46
        }
      ]
    },
    {
      "cell_type": "markdown",
      "source": [
        "### Solución. Método 3"
      ],
      "metadata": {
        "id": "4C4omLvXcQTy"
      }
    },
    {
      "cell_type": "code",
      "source": [
        "def ordenar_sublistas(lista):\n",
        "    # Creamos una lista de tuplas que contengan la suma de los elementos de cada sublista y la sublista original\n",
        "    sublistas_suma = [(sum(sublista), sublista) for sublista in lista]\n",
        "\n",
        "    # Ordenamos la lista de tuplas en base a la suma de los elementos de cada sublista\n",
        "    sublistas_suma.sort(key=lambda x: x[0])\n",
        "\n",
        "    # Creamos una nueva lista con las sublistas ordenadas según la suma de sus elementos\n",
        "    sublistas_ordenadas = [sublista for _, sublista in sublistas_suma]\n",
        "\n",
        "    return sublistas_ordenadas\n",
        "\n",
        "\n",
        "lista = [[1, 2, 3], [4, 5], [6, 7, 8, 9], [10]]\n",
        "resultado = ordenar_sublistas(lista)\n",
        "print(resultado)"
      ],
      "metadata": {
        "colab": {
          "base_uri": "https://localhost:8080/"
        },
        "id": "IjhJSoP3HPLn",
        "outputId": "52139c30-0548-421d-974b-c31b96ef5992"
      },
      "execution_count": 45,
      "outputs": [
        {
          "output_type": "stream",
          "name": "stdout",
          "text": [
            "[[1, 2, 3], [4, 5], [10], [6, 7, 8, 9]]\n"
          ]
        }
      ]
    }
  ]
}