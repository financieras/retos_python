{
  "nbformat": 4,
  "nbformat_minor": 0,
  "metadata": {
    "colab": {
      "provenance": [],
      "authorship_tag": "ABX9TyPY2ygSFFVVI3xqPouXlN/z",
      "include_colab_link": true
    },
    "kernelspec": {
      "name": "python3",
      "display_name": "Python 3"
    },
    "language_info": {
      "name": "python"
    }
  },
  "cells": [
    {
      "cell_type": "markdown",
      "metadata": {
        "id": "view-in-github",
        "colab_type": "text"
      },
      "source": [
        "<a href=\"https://colab.research.google.com/github/financieras/retos_python/blob/main/Sublistas_ordenadas.ipynb\" target=\"_parent\"><img src=\"https://colab.research.google.com/assets/colab-badge.svg\" alt=\"Open In Colab\"/></a>"
      ]
    },
    {
      "cell_type": "markdown",
      "source": [
        "# Reto: Sublistas ordenadas\n",
        "Escribe un programa que tome una lista de sublistas como entrada y devuelva una nueva lista que contenga las sublistas ordenadas de forma ascendente según la suma de sus elementos.\n",
        "\n",
        "## Caso de uso\n",
        "Partimos de esta lista de sublistas:  \n",
        "```[[1, 2, 3], [4, 5], [6, 7, 8, 9], [10]]```\n",
        "\n",
        "La lista original contiene cuatro sublistas.\n",
        "* la sublista `[10]` tiene una suma de elementos de 10\n",
        "* la sublista `[4, 5]` tiene una suma de elementos de 9\n",
        "* la sublista `[1, 2, 3]` tiene una suma de elementos de 6\n",
        "* la sublista `[6, 7, 8, 9]` tiene una suma de elementos de 30  \n",
        "\n",
        "El programa devuelve una nueva lista con las sublistas ordenadas de forma ascendente según la suma de sus elementos.\n",
        "\n",
        "El resultado será:\n",
        "\n",
        "`[[1, 2, 3], [4, 5], [10], [6, 7, 8, 9]]`"
      ],
      "metadata": {
        "id": "VXpHOCMvG6kl"
      }
    },
    {
      "cell_type": "markdown",
      "source": [
        "*Nota: Puede ver estos retos previos para mejorar la comprensión*\n",
        "\n",
        "* [Extraer un elemento de una lista de tuplas](https://github.com/financieras/retos_python/blob/main/Extraer_de_lista_de_tuplas.ipynb)\n",
        "* [Ordenar una lista de tuplas por el elemento n-ésimo](https://github.com/financieras/retos_python/blob/main/Ordenar_lista_de_tuplas.ipynb)"
      ],
      "metadata": {
        "id": "E5C7OY3zZcpB"
      }
    },
    {
      "cell_type": "markdown",
      "source": [
        "## Solución. Método 1"
      ],
      "metadata": {
        "id": "dkO-cuqscChP"
      }
    },
    {
      "cell_type": "code",
      "source": [
        "def ordenar_sublistas(entrada):\n",
        "    lista_tuplas = []\n",
        "    for lista in entrada:\n",
        "        lista_tuplas.append((sum(lista), lista))\n",
        "    lista_tuplas_ordenada = sorted(lista_tuplas)   # sorted realmente no modifica el orden de lista_tuplas\n",
        "    return list(zip(*lista_tuplas_ordenada))[1]\n",
        "\n",
        "lista = [[1, 2, 3], [4, 5], [6, 7, 8, 9], [10]]\n",
        "resultado = ordenar_sublistas(lista)\n",
        "print(resultado)"
      ],
      "metadata": {
        "colab": {
          "base_uri": "https://localhost:8080/"
        },
        "id": "kcnkTWVUBjvD",
        "outputId": "f0c95f69-ae21-4ce7-a1a5-a5a09077a600"
      },
      "execution_count": 1,
      "outputs": [
        {
          "output_type": "stream",
          "name": "stdout",
          "text": [
            "([1, 2, 3], [4, 5], [10], [6, 7, 8, 9])\n"
          ]
        }
      ]
    },
    {
      "cell_type": "markdown",
      "source": [
        "## Solución. Método 2"
      ],
      "metadata": {
        "id": "aomztsxKcMLI"
      }
    },
    {
      "cell_type": "code",
      "source": [
        "origen = [[1, 2, 3], [4, 5], [6, 7, 8, 9], [10]]\n",
        "print(origen)\n",
        "\n",
        "# Creamos una lista de tuplas con la suma y los elementos de origen\n",
        "lista_tuplas =[(sum(elemento), elemento) for elemento in lista]\n",
        "print(lista_tuplas)\n",
        "\n",
        "# Ordenamos la lista de tuplas por el primer elemento de la tupla\n",
        "lista_tuplas_ordenada = sorted(lista_tuplas)\n",
        "print(lista_tuplas_ordenada)\n",
        "\n",
        "# Devolvemos una lista con las listas de origen ordenadas por su suma\n",
        "[y for _,y in lista_tuplas_ordenada]"
      ],
      "metadata": {
        "colab": {
          "base_uri": "https://localhost:8080/"
        },
        "id": "22x5Y7AnJ9YR",
        "outputId": "5b2ebd02-7ca3-471a-bbe6-71885b24e25b"
      },
      "execution_count": 2,
      "outputs": [
        {
          "output_type": "stream",
          "name": "stdout",
          "text": [
            "[[1, 2, 3], [4, 5], [6, 7, 8, 9], [10]]\n",
            "[(6, [1, 2, 3]), (9, [4, 5]), (30, [6, 7, 8, 9]), (10, [10])]\n",
            "[(6, [1, 2, 3]), (9, [4, 5]), (10, [10]), (30, [6, 7, 8, 9])]\n"
          ]
        },
        {
          "output_type": "execute_result",
          "data": {
            "text/plain": [
              "[[1, 2, 3], [4, 5], [10], [6, 7, 8, 9]]"
            ]
          },
          "metadata": {},
          "execution_count": 2
        }
      ]
    },
    {
      "cell_type": "markdown",
      "source": [
        "## Solución. Método 3"
      ],
      "metadata": {
        "id": "4C4omLvXcQTy"
      }
    },
    {
      "cell_type": "code",
      "source": [
        "def ordenar_sublistas(lista):\n",
        "    # Creamos una lista de tuplas que contengan la suma de los elementos de cada sublista y la sublista original\n",
        "    sublistas_suma = [(sum(sublista), sublista) for sublista in lista]\n",
        "\n",
        "    # Ordenamos la lista de tuplas en base a la suma de los elementos de cada sublista\n",
        "    sublistas_suma.sort(key=lambda x: x[0])\n",
        "\n",
        "    # Creamos una nueva lista con las sublistas ordenadas según la suma de sus elementos\n",
        "    sublistas_ordenadas = [sublista for _, sublista in sublistas_suma]\n",
        "\n",
        "    return sublistas_ordenadas\n",
        "\n",
        "\n",
        "lista = [[1, 2, 3], [4, 5], [6, 7, 8, 9], [10]]\n",
        "resultado = ordenar_sublistas(lista)\n",
        "print(resultado)"
      ],
      "metadata": {
        "colab": {
          "base_uri": "https://localhost:8080/"
        },
        "id": "IjhJSoP3HPLn",
        "outputId": "90fcc155-9d64-461b-c0fa-78c49d89bc53"
      },
      "execution_count": 3,
      "outputs": [
        {
          "output_type": "stream",
          "name": "stdout",
          "text": [
            "[[1, 2, 3], [4, 5], [10], [6, 7, 8, 9]]\n"
          ]
        }
      ]
    }
  ]
}