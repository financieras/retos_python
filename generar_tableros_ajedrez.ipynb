{
  "nbformat": 4,
  "nbformat_minor": 0,
  "metadata": {
    "colab": {
      "provenance": [],
      "authorship_tag": "ABX9TyN7sErqB7W/nmTCp9VL+m1d",
      "include_colab_link": true
    },
    "kernelspec": {
      "name": "python3",
      "display_name": "Python 3"
    },
    "language_info": {
      "name": "python"
    }
  },
  "cells": [
    {
      "cell_type": "markdown",
      "metadata": {
        "id": "view-in-github",
        "colab_type": "text"
      },
      "source": [
        "<a href=\"https://colab.research.google.com/github/financieras/retos_python/blob/main/generar_tableros_ajedrez.ipynb\" target=\"_parent\"><img src=\"https://colab.research.google.com/assets/colab-badge.svg\" alt=\"Open In Colab\"/></a>"
      ]
    },
    {
      "cell_type": "markdown",
      "source": [
        "# Generar tableros de ajedrez\n",
        "En Python, crear un programa que genere tableros de ajedrez aleatorios:\n",
        "1. Un tablero de ajedrez debe tener en cada equipo (blancas y negras):\n",
        " - Entre 0 y 8 Peones\n",
        " - Entre 0 y 2 Caballos\n",
        " - Entre 0 y 2 Alfiles\n",
        " - Entre 0 y 2 Torres\n",
        " - Entre 0 y 1 Reina\n",
        " - 1 Rey\n",
        "2. Las 32 piezas se pueden representar mediante dos caracteres, así:  \n",
        "\n",
        "    ```python\n",
        "    piezas = [\"Kw\", \"Qw\", \"Rw\", \"Rw\", \"Bw\", \"Bw\",\n",
        "              \"Nw\", \"Nw\", \"Pw\", \"Pw\", \"Pw\", \"Pw\",\n",
        "              \"Pw\", \"Pw\", \"Pw\", \"Pw\",\n",
        "              \"Kb\", \"Qb\", \"Rb\", \"Rb\", \"Bb\", \"Bb\",\n",
        "              \"Nb\", \"Nb\", \"Pb\", \"Pb\", \"Pb\", \"Pb\",\n",
        "              \"Pb\", \"Pb\", \"Pb\", \"Pb\"]\n",
        "    ```\n",
        "\n",
        "- Kw representa al Rey blanco\n",
        "- Pb representa al Peón negro\n",
        "\n",
        "### Piezas\n",
        "\n",
        "* Rey = King\n",
        "* Reina = Queen\n",
        "* Torre = Rook\n",
        "* Caballo = Knight\n",
        "* Alfil = Bishop\n",
        "* Peón = Pawn"
      ],
      "metadata": {
        "id": "OYN3191m3hXP"
      }
    },
    {
      "cell_type": "markdown",
      "source": [
        "## Listando las 32 piezas"
      ],
      "metadata": {
        "id": "akVYK3oIwMQ6"
      }
    },
    {
      "cell_type": "code",
      "execution_count": 4,
      "metadata": {
        "colab": {
          "base_uri": "https://localhost:8080/"
        },
        "id": "ubg8uo2qw9_g",
        "outputId": "a3524095-f18f-4b9c-caee-b954660f00dd"
      },
      "outputs": [
        {
          "output_type": "stream",
          "name": "stdout",
          "text": [
            "__ Rw Kw __ __ __ __ __ \n",
            "Nb Bw __ __ __ __ __ Pw \n",
            "__ __ __ __ __ __ __ __ \n",
            "Pw __ __ __ __ __ __ __ \n",
            "__ __ __ __ __ __ __ __ \n",
            "__ __ Pb __ __ __ Rw Kb \n",
            "__ __ __ Rb __ __ __ __ \n",
            "__ __ __ __ __ __ __ __ \n"
          ]
        }
      ],
      "source": [
        "from random import randint, sample\n",
        "\n",
        "# situamos los dos reyes los primeros\n",
        "piezas =   [\"Kw\", \"Kb\", \"Qw\", \"Rw\", \"Rw\", \"Bw\", \"Bw\",\n",
        "            \"Nw\", \"Nw\", \"Pw\", \"Pw\", \"Pw\", \"Pw\",\n",
        "            \"Pw\", \"Pw\", \"Pw\", \"Pw\",\n",
        "            \"Qb\", \"Rb\", \"Rb\", \"Bb\", \"Bb\",\n",
        "            \"Nb\", \"Nb\", \"Pb\", \"Pb\", \"Pb\", \"Pb\",\n",
        "            \"Pb\", \"Pb\", \"Pb\", \"Pb\"]\n",
        "tablero = [\"__\" for _ in range(64)]\n",
        "\n",
        "# Generar una seleccion de piezas al azar.\n",
        "max = randint(1, len(piezas)-2) # restamos 2 ya que los reyes siempre estarán\n",
        "seleccion = sample(piezas[2:], max) + [piezas[0]] + [piezas[1]] # con reyes\n",
        "\n",
        "for pieza in seleccion:\n",
        "    # Tomamos una pieza\n",
        "    while True:\n",
        "        # Buscamos al azar una casilla vacia\n",
        "        indice = randint(0, len(tablero) - 1)\n",
        "        if tablero[indice] == \"__\":\n",
        "            # Encontramos una casilla vacia; poblarla y salir\n",
        "            tablero[indice] = pieza\n",
        "            break\n",
        "\n",
        "# Impresion\n",
        "for fila in range(8):\n",
        "    for columna in range(8):\n",
        "        print(tablero[fila * 8 + columna], end = \" \")\n",
        "    print()"
      ]
    },
    {
      "cell_type": "markdown",
      "source": [
        "## Conociendo el número de piezas de cada ficha"
      ],
      "metadata": {
        "id": "tyMb_VSowY8z"
      }
    },
    {
      "cell_type": "code",
      "source": [
        "import random\n",
        "\n",
        "def generar_tablero():\n",
        "    piezas = ['Kw', 'Qw', 'Rw', 'Bw', 'Nw', 'Pw', 'Kb', 'Qb', 'Rb', 'Bb', 'Nb', 'Pb']\n",
        "    tablero = ['__'] * 64  # Inicializar un tablero vacío\n",
        "\n",
        "    for pieza in piezas:\n",
        "        if 'K' in pieza:  # Hay exactamente un rey de cada color\n",
        "            num_piezas = 1\n",
        "        elif 'Q' in pieza:  # Hay entre 0 y 1 reinas de cada color\n",
        "            num_piezas = random.randint(0, 1)\n",
        "        elif 'R' in pieza or 'B' in pieza or 'N' in pieza:  # Hay entre 0 y 2 torres, alfiles o caballos de cada color\n",
        "            num_piezas = random.randint(0, 2)\n",
        "        elif 'P' in pieza:  # Hay entre 0 y 8 peones de cada color\n",
        "            num_piezas = random.randint(0, 8)\n",
        "\n",
        "        for _ in range(num_piezas):\n",
        "            while True:\n",
        "                pos = random.randint(0, 63)  # Elegir una posición aleatoria en el tablero\n",
        "                if tablero[pos] == '__':  # Si la posición está vacía\n",
        "                    tablero[pos] = pieza  # Colocar la pieza en la posición\n",
        "                    break\n",
        "\n",
        "    return tablero\n",
        "\n",
        "def imprimir_tablero(tablero):\n",
        "    for i in range(8):\n",
        "        for j in range(8):\n",
        "            print(tablero[i*8 + j], end=' ')\n",
        "        print()\n",
        "\n",
        "tablero = generar_tablero()\n",
        "imprimir_tablero(tablero)\n"
      ],
      "metadata": {
        "colab": {
          "base_uri": "https://localhost:8080/"
        },
        "id": "A39L4qgOzYoH",
        "outputId": "eb9fd543-0b8c-49d1-8698-17eaffdfdf79"
      },
      "execution_count": null,
      "outputs": [
        {
          "output_type": "stream",
          "name": "stdout",
          "text": [
            "__ Pw __ __ __ Nb __ __ \n",
            "__ Pb Pw __ __ __ Qb __ \n",
            "__ __ __ __ __ __ Rb __ \n",
            "__ Pb __ __ __ Pb __ Bb \n",
            "__ __ Kw __ Kb __ __ __ \n",
            "Bb __ __ __ Pb __ __ Pw \n",
            "__ __ __ Pw __ __ Qw __ \n",
            "Pb __ __ Pb __ __ __ __ \n"
          ]
        }
      ]
    },
    {
      "cell_type": "markdown",
      "source": [
        "## Tablero como matriz"
      ],
      "metadata": {
        "id": "LMpuk3_r1Vdv"
      }
    },
    {
      "cell_type": "code",
      "source": [
        "from random import randint, choices\n",
        "\n",
        "def crear_tablero():\n",
        "    tablero = [['__' for i in range(8)] for j in range(8)]\n",
        "    return tablero\n",
        "\n",
        "def poblar_tablero(tablero):\n",
        "    reyes = ['Kw','Kb']\n",
        "    resto_piezas = ['Qw','Qb'] + ['Rw','Bw','Nw','Rb','Bb','Nb']*2 + ['Pw','Pb']*8\n",
        "    seleccion = reyes + choices(resto_piezas, k=randint(0,30))\n",
        "    for pieza in seleccion:\n",
        "        while True:\n",
        "            row, col = randint(0,7), randint(0,7)\n",
        "            if tablero[row][col] == '__':\n",
        "                tablero[row][col] = pieza\n",
        "                break\n",
        "\n",
        "def imprimir_tablero(tablero):\n",
        "    for fila in tablero:\n",
        "        print(*fila)\n",
        "\n",
        "if __name__ == \"__main__\":\n",
        "    tablero = crear_tablero()\n",
        "    poblar_tablero(tablero)\n",
        "    imprimir_tablero(tablero)"
      ],
      "metadata": {
        "colab": {
          "base_uri": "https://localhost:8080/"
        },
        "id": "xtX8B1on0yJM",
        "outputId": "b31ddc4a-06eb-4dbd-a799-a5c16383f3a5"
      },
      "execution_count": 23,
      "outputs": [
        {
          "output_type": "stream",
          "name": "stdout",
          "text": [
            "__ Nb Qb __ __ __ __ Bw\n",
            "__ __ __ __ __ Nb __ Qw\n",
            "__ __ __ Pw Pw __ Nb __\n",
            "__ Rb __ __ __ __ __ __\n",
            "Bw Pb Kb Qb __ Rw __ __\n",
            "__ __ __ __ Kw __ Nb Pw\n",
            "Pb Qb __ __ __ __ __ Nw\n",
            "__ __ __ Nw __ Pw __ __\n"
          ]
        }
      ]
    }
  ]
}