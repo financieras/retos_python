{
  "nbformat": 4,
  "nbformat_minor": 0,
  "metadata": {
    "colab": {
      "provenance": [],
      "authorship_tag": "ABX9TyMhqsDKTQzx3J5n4k12t4gP",
      "include_colab_link": true
    },
    "kernelspec": {
      "name": "python3",
      "display_name": "Python 3"
    },
    "language_info": {
      "name": "python"
    }
  },
  "cells": [
    {
      "cell_type": "markdown",
      "metadata": {
        "id": "view-in-github",
        "colab_type": "text"
      },
      "source": [
        "<a href=\"https://colab.research.google.com/github/financieras/retos_python/blob/main/Extraer_de_lista_de_tuplas.ipynb\" target=\"_parent\"><img src=\"https://colab.research.google.com/assets/colab-badge.svg\" alt=\"Open In Colab\"/></a>"
      ]
    },
    {
      "cell_type": "markdown",
      "source": [
        "# Reto: Extraer el elemento n-ésimo de una lista de tuplas\n",
        "Dada una lista de tuplas deseamos extraer únicamente el elemento n-ésimo de todas ellas. Por ejemplo, deseamos extraer el segundo elemento de esta lista de tuplas:  \n",
        "`[(1,'a',10), (2,'b',20), (3,'c',30)]`\n",
        "\n",
        "El resultado obtenido será:  \n",
        "`['a', 'b', 'c']`"
      ],
      "metadata": {
        "id": "tgSdUfBnXhNM"
      }
    },
    {
      "cell_type": "markdown",
      "source": [
        "## Solución. Método 1"
      ],
      "metadata": {
        "id": "BKtugkbZZFdK"
      }
    },
    {
      "cell_type": "code",
      "source": [
        "lista_tuplas = [(1,'a',10), (2,'b',20), (3,'c',30)]\n",
        "\n",
        "n = 1  # Índice del elemento que deseamos extraer\n",
        "\n",
        "list(zip(*lista_tuplas))[n]"
      ],
      "metadata": {
        "colab": {
          "base_uri": "https://localhost:8080/"
        },
        "id": "epAQllaOXfyQ",
        "outputId": "0744cad2-7779-4a33-b418-3da0f259995c"
      },
      "execution_count": 4,
      "outputs": [
        {
          "output_type": "execute_result",
          "data": {
            "text/plain": [
              "('a', 'b', 'c')"
            ]
          },
          "metadata": {},
          "execution_count": 4
        }
      ]
    },
    {
      "cell_type": "markdown",
      "source": [
        "## Solución. Método 2"
      ],
      "metadata": {
        "id": "ogjPChTYZJ7_"
      }
    },
    {
      "cell_type": "code",
      "source": [
        "lista_tuplas = [(1,'a',10), (2,'b',20), (3,'c',30)]\n",
        "\n",
        "n = 1  # Índice del elemento que deseamos extraer\n",
        "\n",
        "[x[n] for x in lista_tuplas]"
      ],
      "metadata": {
        "colab": {
          "base_uri": "https://localhost:8080/"
        },
        "id": "lB3LNr6uY2D0",
        "outputId": "286035c2-3ace-4892-9bd2-a0e87982028f"
      },
      "execution_count": 5,
      "outputs": [
        {
          "output_type": "execute_result",
          "data": {
            "text/plain": [
              "['a', 'b', 'c']"
            ]
          },
          "metadata": {},
          "execution_count": 5
        }
      ]
    },
    {
      "cell_type": "markdown",
      "source": [
        "## Solución. Método 3\n",
        "* Utilizamos la función `lambda` para definir una función anónima que toma cada tupla `x` y devuelve el elemento en la posición `n`.\n",
        "* Luego, utilizamos `map` para aplicar esta función a cada elemento de `lista_tuplas`.\n",
        "* Finalmente, convertimos el resultado en una lista utilizando `list()`."
      ],
      "metadata": {
        "id": "qQBpkWXLKyGE"
      }
    },
    {
      "cell_type": "code",
      "source": [
        "lista_tuplas = [(1,'a',10), (2,'b',20), (3,'c',30)]\n",
        "\n",
        "n = 1  # Índice del elemento que deseamos extraer\n",
        "\n",
        "list(map(lambda x: x[n], lista_tuplas))"
      ],
      "metadata": {
        "id": "NOgbuflYJDhE",
        "outputId": "d531ac45-a5ce-4367-b22d-4b4fec82ebe7",
        "colab": {
          "base_uri": "https://localhost:8080/"
        }
      },
      "execution_count": 6,
      "outputs": [
        {
          "output_type": "execute_result",
          "data": {
            "text/plain": [
              "['a', 'b', 'c']"
            ]
          },
          "metadata": {},
          "execution_count": 6
        }
      ]
    }
  ]
}